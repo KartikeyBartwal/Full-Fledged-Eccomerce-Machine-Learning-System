{
 "cells": [
  {
   "cell_type": "markdown",
   "metadata": {},
   "source": [
    "## Product Price Recommendation for Online Sellers "
   ]
  },
  {
   "cell_type": "code",
   "execution_count": 1,
   "metadata": {},
   "outputs": [],
   "source": [
    "import matplotlib.pyplot as plt\n",
    "import seaborn as sns\n",
    "import pandas as pd\n",
    "from sklearn.ensemble import RandomForestRegressor\n",
    "from sklearn.metrics import mean_squared_error, r2_score\n",
    "from sklearn.preprocessing import LabelEncoder, StandardScaler\n",
    "from sklearn.model_selection import train_test_split"
   ]
  },
  {
   "cell_type": "code",
   "execution_count": 2,
   "metadata": {},
   "outputs": [],
   "source": [
    "df = pd.read_csv(\"synthetic_data.csv\", encoding='unicode_escape')"
   ]
  },
  {
   "cell_type": "code",
   "execution_count": 3,
   "metadata": {},
   "outputs": [
    {
     "data": {
      "text/html": [
       "<div>\n",
       "<style scoped>\n",
       "    .dataframe tbody tr th:only-of-type {\n",
       "        vertical-align: middle;\n",
       "    }\n",
       "\n",
       "    .dataframe tbody tr th {\n",
       "        vertical-align: top;\n",
       "    }\n",
       "\n",
       "    .dataframe thead th {\n",
       "        text-align: right;\n",
       "    }\n",
       "</style>\n",
       "<table border=\"1\" class=\"dataframe\">\n",
       "  <thead>\n",
       "    <tr style=\"text-align: right;\">\n",
       "      <th></th>\n",
       "      <th>ProductID</th>\n",
       "      <th>ProductName</th>\n",
       "      <th>Brand</th>\n",
       "      <th>Category</th>\n",
       "      <th>Weight</th>\n",
       "      <th>Dimensions</th>\n",
       "      <th>Material</th>\n",
       "      <th>Color</th>\n",
       "      <th>Rating</th>\n",
       "      <th>NumReviews</th>\n",
       "      <th>Price</th>\n",
       "    </tr>\n",
       "  </thead>\n",
       "  <tbody>\n",
       "    <tr>\n",
       "      <th>0</th>\n",
       "      <td>1</td>\n",
       "      <td>Laptop</td>\n",
       "      <td>XYZ Corp</td>\n",
       "      <td>Laptops</td>\n",
       "      <td>2.5</td>\n",
       "      <td>13x9x0.7</td>\n",
       "      <td>Aluminum</td>\n",
       "      <td>Silver</td>\n",
       "      <td>4.5</td>\n",
       "      <td>120</td>\n",
       "      <td>1200</td>\n",
       "    </tr>\n",
       "    <tr>\n",
       "      <th>1</th>\n",
       "      <td>2</td>\n",
       "      <td>Smartphone</td>\n",
       "      <td>ABC Inc</td>\n",
       "      <td>Mobile Phones</td>\n",
       "      <td>0.2</td>\n",
       "      <td>5.7x2.8x0.3</td>\n",
       "      <td>Glass</td>\n",
       "      <td>Black</td>\n",
       "      <td>4.8</td>\n",
       "      <td>300</td>\n",
       "      <td>800</td>\n",
       "    </tr>\n",
       "    <tr>\n",
       "      <th>2</th>\n",
       "      <td>3</td>\n",
       "      <td>Headphones</td>\n",
       "      <td>SoundWave</td>\n",
       "      <td>Electronics</td>\n",
       "      <td>0.4</td>\n",
       "      <td>8x7x2</td>\n",
       "      <td>Plastic</td>\n",
       "      <td>White</td>\n",
       "      <td>4.3</td>\n",
       "      <td>80</td>\n",
       "      <td>100</td>\n",
       "    </tr>\n",
       "    <tr>\n",
       "      <th>3</th>\n",
       "      <td>4</td>\n",
       "      <td>Smartwatch</td>\n",
       "      <td>TechGuru</td>\n",
       "      <td>Wearable Tech</td>\n",
       "      <td>0.1</td>\n",
       "      <td>1.5x1.5x0.4</td>\n",
       "      <td>Plastic</td>\n",
       "      <td>Black</td>\n",
       "      <td>4.6</td>\n",
       "      <td>150</td>\n",
       "      <td>250</td>\n",
       "    </tr>\n",
       "    <tr>\n",
       "      <th>4</th>\n",
       "      <td>5</td>\n",
       "      <td>Bluetooth Speaker</td>\n",
       "      <td>AudioKing</td>\n",
       "      <td>Audio Devices</td>\n",
       "      <td>1.0</td>\n",
       "      <td>7x7x3</td>\n",
       "      <td>Metal</td>\n",
       "      <td>Red</td>\n",
       "      <td>4.2</td>\n",
       "      <td>50</td>\n",
       "      <td>80</td>\n",
       "    </tr>\n",
       "  </tbody>\n",
       "</table>\n",
       "</div>"
      ],
      "text/plain": [
       "   ProductID        ProductName      Brand       Category  Weight  \\\n",
       "0          1             Laptop   XYZ Corp        Laptops     2.5   \n",
       "1          2         Smartphone    ABC Inc  Mobile Phones     0.2   \n",
       "2          3         Headphones  SoundWave    Electronics     0.4   \n",
       "3          4         Smartwatch   TechGuru  Wearable Tech     0.1   \n",
       "4          5  Bluetooth Speaker  AudioKing  Audio Devices     1.0   \n",
       "\n",
       "    Dimensions  Material   Color  Rating  NumReviews  Price  \n",
       "0     13x9x0.7  Aluminum  Silver     4.5         120   1200  \n",
       "1  5.7x2.8x0.3     Glass   Black     4.8         300    800  \n",
       "2        8x7x2   Plastic   White     4.3          80    100  \n",
       "3  1.5x1.5x0.4   Plastic   Black     4.6         150    250  \n",
       "4        7x7x3     Metal     Red     4.2          50     80  "
      ]
     },
     "execution_count": 3,
     "metadata": {},
     "output_type": "execute_result"
    }
   ],
   "source": [
    "df.head()"
   ]
  },
  {
   "cell_type": "code",
   "execution_count": 4,
   "metadata": {},
   "outputs": [
    {
     "data": {
      "text/plain": [
       "(120, 11)"
      ]
     },
     "execution_count": 4,
     "metadata": {},
     "output_type": "execute_result"
    }
   ],
   "source": [
    "df.shape"
   ]
  },
  {
   "cell_type": "code",
   "execution_count": 5,
   "metadata": {},
   "outputs": [
    {
     "data": {
      "text/html": [
       "<div>\n",
       "<style scoped>\n",
       "    .dataframe tbody tr th:only-of-type {\n",
       "        vertical-align: middle;\n",
       "    }\n",
       "\n",
       "    .dataframe tbody tr th {\n",
       "        vertical-align: top;\n",
       "    }\n",
       "\n",
       "    .dataframe thead th {\n",
       "        text-align: right;\n",
       "    }\n",
       "</style>\n",
       "<table border=\"1\" class=\"dataframe\">\n",
       "  <thead>\n",
       "    <tr style=\"text-align: right;\">\n",
       "      <th></th>\n",
       "      <th>ProductID</th>\n",
       "      <th>Weight</th>\n",
       "      <th>Rating</th>\n",
       "      <th>NumReviews</th>\n",
       "      <th>Price</th>\n",
       "    </tr>\n",
       "  </thead>\n",
       "  <tbody>\n",
       "    <tr>\n",
       "      <th>count</th>\n",
       "      <td>120.000000</td>\n",
       "      <td>120.000000</td>\n",
       "      <td>120.000000</td>\n",
       "      <td>120.000000</td>\n",
       "      <td>120.000000</td>\n",
       "    </tr>\n",
       "    <tr>\n",
       "      <th>mean</th>\n",
       "      <td>60.500000</td>\n",
       "      <td>0.766250</td>\n",
       "      <td>4.486667</td>\n",
       "      <td>140.916667</td>\n",
       "      <td>100.666667</td>\n",
       "    </tr>\n",
       "    <tr>\n",
       "      <th>std</th>\n",
       "      <td>34.785054</td>\n",
       "      <td>1.609754</td>\n",
       "      <td>0.179604</td>\n",
       "      <td>60.349066</td>\n",
       "      <td>164.478975</td>\n",
       "    </tr>\n",
       "    <tr>\n",
       "      <th>min</th>\n",
       "      <td>1.000000</td>\n",
       "      <td>0.050000</td>\n",
       "      <td>4.000000</td>\n",
       "      <td>20.000000</td>\n",
       "      <td>10.000000</td>\n",
       "    </tr>\n",
       "    <tr>\n",
       "      <th>25%</th>\n",
       "      <td>30.750000</td>\n",
       "      <td>0.200000</td>\n",
       "      <td>4.400000</td>\n",
       "      <td>97.500000</td>\n",
       "      <td>30.000000</td>\n",
       "    </tr>\n",
       "    <tr>\n",
       "      <th>50%</th>\n",
       "      <td>60.500000</td>\n",
       "      <td>0.300000</td>\n",
       "      <td>4.500000</td>\n",
       "      <td>150.000000</td>\n",
       "      <td>50.000000</td>\n",
       "    </tr>\n",
       "    <tr>\n",
       "      <th>75%</th>\n",
       "      <td>90.250000</td>\n",
       "      <td>0.700000</td>\n",
       "      <td>4.600000</td>\n",
       "      <td>185.000000</td>\n",
       "      <td>100.000000</td>\n",
       "    </tr>\n",
       "    <tr>\n",
       "      <th>max</th>\n",
       "      <td>120.000000</td>\n",
       "      <td>12.000000</td>\n",
       "      <td>4.900000</td>\n",
       "      <td>300.000000</td>\n",
       "      <td>1200.000000</td>\n",
       "    </tr>\n",
       "  </tbody>\n",
       "</table>\n",
       "</div>"
      ],
      "text/plain": [
       "        ProductID      Weight      Rating  NumReviews        Price\n",
       "count  120.000000  120.000000  120.000000  120.000000   120.000000\n",
       "mean    60.500000    0.766250    4.486667  140.916667   100.666667\n",
       "std     34.785054    1.609754    0.179604   60.349066   164.478975\n",
       "min      1.000000    0.050000    4.000000   20.000000    10.000000\n",
       "25%     30.750000    0.200000    4.400000   97.500000    30.000000\n",
       "50%     60.500000    0.300000    4.500000  150.000000    50.000000\n",
       "75%     90.250000    0.700000    4.600000  185.000000   100.000000\n",
       "max    120.000000   12.000000    4.900000  300.000000  1200.000000"
      ]
     },
     "execution_count": 5,
     "metadata": {},
     "output_type": "execute_result"
    }
   ],
   "source": [
    "df.describe()"
   ]
  },
  {
   "cell_type": "code",
   "execution_count": 6,
   "metadata": {},
   "outputs": [
    {
     "data": {
      "text/plain": [
       "ProductID        int64\n",
       "ProductName     object\n",
       "Brand           object\n",
       "Category        object\n",
       "Weight         float64\n",
       "Dimensions      object\n",
       "Material        object\n",
       "Color           object\n",
       "Rating         float64\n",
       "NumReviews       int64\n",
       "Price            int64\n",
       "dtype: object"
      ]
     },
     "execution_count": 6,
     "metadata": {},
     "output_type": "execute_result"
    }
   ],
   "source": [
    "df.dtypes"
   ]
  },
  {
   "cell_type": "markdown",
   "metadata": {},
   "source": [
    "<span style=\"font-family: 'Bookman Old Style', sans-serif; font-size: 16px;\"> Checking for Null Values in the dataset.<br> Description, and CustomerID has null/missing values </span>"
   ]
  },
  {
   "cell_type": "code",
   "execution_count": 7,
   "metadata": {},
   "outputs": [
    {
     "data": {
      "text/plain": [
       "ProductID      0\n",
       "ProductName    0\n",
       "Brand          0\n",
       "Category       0\n",
       "Weight         0\n",
       "Dimensions     0\n",
       "Material       0\n",
       "Color          0\n",
       "Rating         0\n",
       "NumReviews     0\n",
       "Price          0\n",
       "dtype: int64"
      ]
     },
     "execution_count": 7,
     "metadata": {},
     "output_type": "execute_result"
    }
   ],
   "source": [
    "df.isnull().sum()"
   ]
  },
  {
   "cell_type": "code",
   "execution_count": 8,
   "metadata": {},
   "outputs": [
    {
     "name": "stdout",
     "output_type": "stream",
     "text": [
      "Category Distribution:\n",
      "Category\n",
      "Home & Office            28\n",
      "Kitchen Appliances        9\n",
      "Audio Devices             8\n",
      "Computer Accessories      8\n",
      "Car Accessories           6\n",
      "Outdoor & Sports          6\n",
      "Home Security             5\n",
      "Home Appliances           5\n",
      "Health & Wellness         4\n",
      "Apparel & Accessories     4\n",
      "Home Automation           4\n",
      "Mobile Accessories        4\n",
      "Pet Supplies              3\n",
      "Personal Care             3\n",
      "Fitness & Health          3\n",
      "Wearable Tech             3\n",
      "Travel & Luggage          2\n",
      "Photography               2\n",
      "Home & Garden             2\n",
      "Gardening & Lawn Care     1\n",
      "Home Decor                1\n",
      "Kitchen Accessories       1\n",
      "Parenting & Baby Care     1\n",
      "Laptops                   1\n",
      "Office Supplies           1\n",
      "Mobile Phones             1\n",
      "Tablets                   1\n",
      "Video Games               1\n",
      "Electronics               1\n",
      "Cycling Accessories       1\n",
      "Name: count, dtype: int64\n",
      "\n"
     ]
    }
   ],
   "source": [
    "# Display category distribution\n",
    "category_distribution = df['Category'].value_counts()\n",
    "print(\"Category Distribution:\")\n",
    "print(category_distribution)\n",
    "print()"
   ]
  },
  {
   "cell_type": "code",
   "execution_count": 9,
   "metadata": {},
   "outputs": [
    {
     "name": "stdout",
     "output_type": "stream",
     "text": [
      "Average Weight: 0.76625\n",
      "Average Dimensions: 5.742777777777778\n",
      "\n"
     ]
    }
   ],
   "source": [
    "# Calculate average weight and dimensions\n",
    "avg_weight = df['Weight'].mean()\n",
    "avg_dimensions = df['Dimensions'].apply(lambda x: sum(map(float, x.split('x'))) / 3).mean()  # Calculate average of dimensions\n",
    "print(\"Average Weight:\", avg_weight)\n",
    "print(\"Average Dimensions:\", avg_dimensions)\n",
    "print()"
   ]
  },
  {
   "cell_type": "code",
   "execution_count": 10,
   "metadata": {},
   "outputs": [
    {
     "name": "stdout",
     "output_type": "stream",
     "text": [
      "Material Distribution:\n",
      "Material\n",
      "Plastic            90\n",
      "Metal               7\n",
      "Wood                4\n",
      "Fabric              4\n",
      "Nylon               4\n",
      "Aluminum            3\n",
      "Glass               3\n",
      "Stainless Steel     2\n",
      "Leather             1\n",
      "Paper               1\n",
      "Foam                1\n",
      "Name: count, dtype: int64\n",
      "\n"
     ]
    }
   ],
   "source": [
    "# Display material distribution\n",
    "material_distribution = df['Material'].value_counts()\n",
    "print(\"Material Distribution:\")\n",
    "print(material_distribution)\n",
    "print()"
   ]
  },
  {
   "cell_type": "code",
   "execution_count": 11,
   "metadata": {},
   "outputs": [
    {
     "name": "stdout",
     "output_type": "stream",
     "text": [
      "Color Distribution:\n",
      "Color\n",
      "Black     64\n",
      "White     31\n",
      "Silver     8\n",
      "Blue       5\n",
      "Green      4\n",
      "Red        3\n",
      "RGB        2\n",
      "Brown      2\n",
      "Beige      1\n",
      "Name: count, dtype: int64\n",
      "\n"
     ]
    }
   ],
   "source": [
    "# Display color distribution\n",
    "color_distribution = df['Color'].value_counts()\n",
    "print(\"Color Distribution:\")\n",
    "print(color_distribution)\n",
    "print()"
   ]
  },
  {
   "cell_type": "code",
   "execution_count": 12,
   "metadata": {},
   "outputs": [
    {
     "name": "stdout",
     "output_type": "stream",
     "text": [
      "Rating Distribution:\n",
      "count    120.000000\n",
      "mean       4.486667\n",
      "std        0.179604\n",
      "min        4.000000\n",
      "25%        4.400000\n",
      "50%        4.500000\n",
      "75%        4.600000\n",
      "max        4.900000\n",
      "Name: Rating, dtype: float64\n",
      "\n"
     ]
    }
   ],
   "source": [
    "# Display rating distribution\n",
    "print(\"Rating Distribution:\")\n",
    "print(df['Rating'].describe())\n",
    "print()"
   ]
  },
  {
   "cell_type": "code",
   "execution_count": 13,
   "metadata": {},
   "outputs": [
    {
     "name": "stdout",
     "output_type": "stream",
     "text": [
      "Number of Reviews Distribution:\n",
      "count    120.000000\n",
      "mean     140.916667\n",
      "std       60.349066\n",
      "min       20.000000\n",
      "25%       97.500000\n",
      "50%      150.000000\n",
      "75%      185.000000\n",
      "max      300.000000\n",
      "Name: NumReviews, dtype: float64\n",
      "\n"
     ]
    }
   ],
   "source": [
    "# Display number of reviews distribution\n",
    "print(\"Number of Reviews Distribution:\")\n",
    "print(df['NumReviews'].describe())\n",
    "print()"
   ]
  },
  {
   "cell_type": "code",
   "execution_count": 14,
   "metadata": {},
   "outputs": [
    {
     "name": "stdout",
     "output_type": "stream",
     "text": [
      "Price Distribution:\n",
      "count     120.000000\n",
      "mean      100.666667\n",
      "std       164.478975\n",
      "min        10.000000\n",
      "25%        30.000000\n",
      "50%        50.000000\n",
      "75%       100.000000\n",
      "max      1200.000000\n",
      "Name: Price, dtype: float64\n",
      "\n"
     ]
    }
   ],
   "source": [
    "# Display price distribution\n",
    "print(\"Price Distribution:\")\n",
    "print(df['Price'].describe())\n",
    "print()"
   ]
  },
  {
   "cell_type": "code",
   "execution_count": 15,
   "metadata": {},
   "outputs": [
    {
     "data": {
      "image/png": "[encoded data removed]",
      "text/plain": [
       "<Figure size 800x600 with 1 Axes>"
      ]
     },
     "metadata": {},
     "output_type": "display_data"
    }
   ],
   "source": [
    "# Plot Material Distribution\n",
    "plt.figure(figsize=(8, 6))\n",
    "sns.countplot(x='Material', data=df)\n",
    "plt.title('Material Distribution')\n",
    "plt.xlabel('Material')\n",
    "plt.ylabel('Count')\n",
    "plt.xticks(rotation=45)\n",
    "plt.show()"
   ]
  },
  {
   "cell_type": "code",
   "execution_count": 16,
   "metadata": {},
   "outputs": [
    {
     "data": {
      "image/png": "[encoded data removed]",
      "text/plain": [
       "<Figure size 800x600 with 1 Axes>"
      ]
     },
     "metadata": {},
     "output_type": "display_data"
    }
   ],
   "source": [
    "# Plot Color Distribution\n",
    "plt.figure(figsize=(8, 6))\n",
    "sns.countplot(x='Color', data=df)\n",
    "plt.title('Color Distribution')\n",
    "plt.xlabel('Color')\n",
    "plt.ylabel('Count')\n",
    "plt.xticks(rotation=45)\n",
    "plt.show()"
   ]
  },
  {
   "cell_type": "code",
   "execution_count": 17,
   "metadata": {},
   "outputs": [
    {
     "name": "stderr",
     "output_type": "stream",
     "text": [
      "C:\\Users\\maste\\anaconda3\\Lib\\site-packages\\seaborn\\_oldcore.py:1119: FutureWarning: use_inf_as_na option is deprecated and will be removed in a future version. Convert inf values to NaN before operating instead.\n",
      "  with pd.option_context('mode.use_inf_as_na', True):\n"
     ]
    },
    {
     "data": {
      "image/png": "[encoded data removed]",
      "text/plain": [
       "<Figure size 800x600 with 1 Axes>"
      ]
     },
     "metadata": {},
     "output_type": "display_data"
    }
   ],
   "source": [
    "# Plot Rating Distribution\n",
    "plt.figure(figsize=(8, 6))\n",
    "sns.histplot(df['Rating'], kde=True)\n",
    "plt.title('Rating Distribution')\n",
    "plt.xlabel('Rating')\n",
    "plt.ylabel('Frequency')\n",
    "plt.show()"
   ]
  },
  {
   "cell_type": "code",
   "execution_count": 18,
   "metadata": {},
   "outputs": [
    {
     "name": "stderr",
     "output_type": "stream",
     "text": [
      "C:\\Users\\maste\\anaconda3\\Lib\\site-packages\\seaborn\\_oldcore.py:1119: FutureWarning: use_inf_as_na option is deprecated and will be removed in a future version. Convert inf values to NaN before operating instead.\n",
      "  with pd.option_context('mode.use_inf_as_na', True):\n"
     ]
    },
    {
     "data": {
      "image/png": "[encoded data removed]",
      "text/plain": [
       "<Figure size 800x600 with 1 Axes>"
      ]
     },
     "metadata": {},
     "output_type": "display_data"
    }
   ],
   "source": [
    "# Plot Price Distribution\n",
    "plt.figure(figsize=(8, 6))\n",
    "sns.histplot(df['Price'], kde=True)\n",
    "plt.title('Price Distribution')\n",
    "plt.xlabel('Price')\n",
    "plt.ylabel('Frequency')\n",
    "plt.show()"
   ]
  },
  {
   "cell_type": "markdown",
   "metadata": {},
   "source": [
    "## Feature Engineering"
   ]
  },
  {
   "cell_type": "code",
   "execution_count": 19,
   "metadata": {},
   "outputs": [
    {
     "data": {
      "text/plain": [
       "ProductID      0\n",
       "ProductName    0\n",
       "Brand          0\n",
       "Category       0\n",
       "Weight         0\n",
       "Dimensions     0\n",
       "Material       0\n",
       "Color          0\n",
       "Rating         0\n",
       "NumReviews     0\n",
       "Price          0\n",
       "dtype: int64"
      ]
     },
     "execution_count": 19,
     "metadata": {},
     "output_type": "execute_result"
    }
   ],
   "source": [
    "df.isnull().sum()"
   ]
  },
  {
   "cell_type": "code",
   "execution_count": 20,
   "metadata": {},
   "outputs": [],
   "source": [
    "df.drop(\"ProductID\" , axis = 1, inplace = True)\n",
    "df.drop(\"ProductName\" , axis = 1, inplace = True)\n",
    "df.drop(\"Brand\" , axis = 1, inplace = True)"
   ]
  },
  {
   "cell_type": "code",
   "execution_count": 21,
   "metadata": {},
   "outputs": [
    {
     "data": {
      "text/html": [
       "<div>\n",
       "<style scoped>\n",
       "    .dataframe tbody tr th:only-of-type {\n",
       "        vertical-align: middle;\n",
       "    }\n",
       "\n",
       "    .dataframe tbody tr th {\n",
       "        vertical-align: top;\n",
       "    }\n",
       "\n",
       "    .dataframe thead th {\n",
       "        text-align: right;\n",
       "    }\n",
       "</style>\n",
       "<table border=\"1\" class=\"dataframe\">\n",
       "  <thead>\n",
       "    <tr style=\"text-align: right;\">\n",
       "      <th></th>\n",
       "      <th>Category</th>\n",
       "      <th>Weight</th>\n",
       "      <th>Dimensions</th>\n",
       "      <th>Material</th>\n",
       "      <th>Color</th>\n",
       "      <th>Rating</th>\n",
       "      <th>NumReviews</th>\n",
       "      <th>Price</th>\n",
       "    </tr>\n",
       "  </thead>\n",
       "  <tbody>\n",
       "    <tr>\n",
       "      <th>0</th>\n",
       "      <td>Laptops</td>\n",
       "      <td>2.5</td>\n",
       "      <td>13x9x0.7</td>\n",
       "      <td>Aluminum</td>\n",
       "      <td>Silver</td>\n",
       "      <td>4.5</td>\n",
       "      <td>120</td>\n",
       "      <td>1200</td>\n",
       "    </tr>\n",
       "    <tr>\n",
       "      <th>1</th>\n",
       "      <td>Mobile Phones</td>\n",
       "      <td>0.2</td>\n",
       "      <td>5.7x2.8x0.3</td>\n",
       "      <td>Glass</td>\n",
       "      <td>Black</td>\n",
       "      <td>4.8</td>\n",
       "      <td>300</td>\n",
       "      <td>800</td>\n",
       "    </tr>\n",
       "    <tr>\n",
       "      <th>2</th>\n",
       "      <td>Electronics</td>\n",
       "      <td>0.4</td>\n",
       "      <td>8x7x2</td>\n",
       "      <td>Plastic</td>\n",
       "      <td>White</td>\n",
       "      <td>4.3</td>\n",
       "      <td>80</td>\n",
       "      <td>100</td>\n",
       "    </tr>\n",
       "    <tr>\n",
       "      <th>3</th>\n",
       "      <td>Wearable Tech</td>\n",
       "      <td>0.1</td>\n",
       "      <td>1.5x1.5x0.4</td>\n",
       "      <td>Plastic</td>\n",
       "      <td>Black</td>\n",
       "      <td>4.6</td>\n",
       "      <td>150</td>\n",
       "      <td>250</td>\n",
       "    </tr>\n",
       "    <tr>\n",
       "      <th>4</th>\n",
       "      <td>Audio Devices</td>\n",
       "      <td>1.0</td>\n",
       "      <td>7x7x3</td>\n",
       "      <td>Metal</td>\n",
       "      <td>Red</td>\n",
       "      <td>4.2</td>\n",
       "      <td>50</td>\n",
       "      <td>80</td>\n",
       "    </tr>\n",
       "  </tbody>\n",
       "</table>\n",
       "</div>"
      ],
      "text/plain": [
       "        Category  Weight   Dimensions  Material   Color  Rating  NumReviews  \\\n",
       "0        Laptops     2.5     13x9x0.7  Aluminum  Silver     4.5         120   \n",
       "1  Mobile Phones     0.2  5.7x2.8x0.3     Glass   Black     4.8         300   \n",
       "2    Electronics     0.4        8x7x2   Plastic   White     4.3          80   \n",
       "3  Wearable Tech     0.1  1.5x1.5x0.4   Plastic   Black     4.6         150   \n",
       "4  Audio Devices     1.0        7x7x3     Metal     Red     4.2          50   \n",
       "\n",
       "   Price  \n",
       "0   1200  \n",
       "1    800  \n",
       "2    100  \n",
       "3    250  \n",
       "4     80  "
      ]
     },
     "execution_count": 21,
     "metadata": {},
     "output_type": "execute_result"
    }
   ],
   "source": [
    "df.head()"
   ]
  },
  {
   "cell_type": "code",
   "execution_count": 22,
   "metadata": {},
   "outputs": [
    {
     "data": {
      "text/plain": [
       "Category\n",
       "Home & Office            28\n",
       "Kitchen Appliances        9\n",
       "Audio Devices             8\n",
       "Computer Accessories      8\n",
       "Car Accessories           6\n",
       "Outdoor & Sports          6\n",
       "Home Security             5\n",
       "Home Appliances           5\n",
       "Health & Wellness         4\n",
       "Apparel & Accessories     4\n",
       "Home Automation           4\n",
       "Mobile Accessories        4\n",
       "Pet Supplies              3\n",
       "Personal Care             3\n",
       "Fitness & Health          3\n",
       "Wearable Tech             3\n",
       "Travel & Luggage          2\n",
       "Photography               2\n",
       "Home & Garden             2\n",
       "Gardening & Lawn Care     1\n",
       "Home Decor                1\n",
       "Kitchen Accessories       1\n",
       "Parenting & Baby Care     1\n",
       "Laptops                   1\n",
       "Office Supplies           1\n",
       "Mobile Phones             1\n",
       "Tablets                   1\n",
       "Video Games               1\n",
       "Electronics               1\n",
       "Cycling Accessories       1\n",
       "Name: count, dtype: int64"
      ]
     },
     "execution_count": 22,
     "metadata": {},
     "output_type": "execute_result"
    }
   ],
   "source": [
    "df[\"Category\"].value_counts()"
   ]
  },
  {
   "cell_type": "code",
   "execution_count": 23,
   "metadata": {},
   "outputs": [],
   "source": [
    "# Category\n",
    "\n",
    "category_labels = {\n",
    "    \"Home & Office\": 0,\n",
    "    \"Kitchen Appliances\": 1,\n",
    "    \"Audio Devices\": 2,\n",
    "    \"Computer Accessories\": 3,\n",
    "    \"Car Accessories\": 4,\n",
    "    \"Outdoor & Sports\": 5,\n",
    "    \"Home Security\": 6,\n",
    "    \"Home Appliances\": 7,\n",
    "    \"Health & Wellness\": 8,\n",
    "    \"Apparel & Accessories\": 9,\n",
    "    \"Home Automation\": 10,\n",
    "    \"Mobile Accessories\": 11,\n",
    "    \"Pet Supplies\": 12,\n",
    "    \"Personal Care\": 13,\n",
    "    \"Fitness & Health\": 14,\n",
    "    \"Wearable Tech\": 15,\n",
    "    \"Travel & Luggage\": 16,\n",
    "    \"Photography\": 17,\n",
    "    \"Home & Garden\": 18,\n",
    "    \"Gardening & Lawn Care\": 19,\n",
    "    \"Home Decor\": 20,\n",
    "    \"Kitchen Accessories\": 21,\n",
    "    \"Parenting & Baby Care\": 22,\n",
    "    \"Laptops\": 23,\n",
    "    \"Office Supplies\": 24,\n",
    "    \"Mobile Phones\": 25,\n",
    "    \"Tablets\": 26,\n",
    "    \"Video Games\": 27,\n",
    "    \"Electronics\": 28,\n",
    "    \"Cycling Accessories\": 29\n",
    "}\n",
    "\n",
    "df['Category_Label'] = df['Category'].map(category_labels)\n",
    "df.drop(\"Category\" , axis = 1 , inplace = True)"
   ]
  },
  {
   "cell_type": "code",
   "execution_count": 24,
   "metadata": {},
   "outputs": [],
   "source": [
    "from sklearn.preprocessing import LabelEncoder\n",
    "\n",
    "# Splitting the dimensions strings and converting substrings to floats\n",
    "df[['Length', 'Width', 'Height']] = df['Dimensions'].str.split('x', expand=True).astype(float)\n",
    "\n",
    "# Drop the original 'Dimensions' column\n",
    "df.drop('Dimensions', axis=1, inplace=True)"
   ]
  },
  {
   "cell_type": "code",
   "execution_count": 25,
   "metadata": {},
   "outputs": [
    {
     "data": {
      "text/html": [
       "<div>\n",
       "<style scoped>\n",
       "    .dataframe tbody tr th:only-of-type {\n",
       "        vertical-align: middle;\n",
       "    }\n",
       "\n",
       "    .dataframe tbody tr th {\n",
       "        vertical-align: top;\n",
       "    }\n",
       "\n",
       "    .dataframe thead th {\n",
       "        text-align: right;\n",
       "    }\n",
       "</style>\n",
       "<table border=\"1\" class=\"dataframe\">\n",
       "  <thead>\n",
       "    <tr style=\"text-align: right;\">\n",
       "      <th></th>\n",
       "      <th>Weight</th>\n",
       "      <th>Material</th>\n",
       "      <th>Color</th>\n",
       "      <th>Rating</th>\n",
       "      <th>NumReviews</th>\n",
       "      <th>Price</th>\n",
       "      <th>Category_Label</th>\n",
       "      <th>Length</th>\n",
       "      <th>Width</th>\n",
       "      <th>Height</th>\n",
       "    </tr>\n",
       "  </thead>\n",
       "  <tbody>\n",
       "    <tr>\n",
       "      <th>0</th>\n",
       "      <td>2.5</td>\n",
       "      <td>Aluminum</td>\n",
       "      <td>Silver</td>\n",
       "      <td>4.5</td>\n",
       "      <td>120</td>\n",
       "      <td>1200</td>\n",
       "      <td>23</td>\n",
       "      <td>13.0</td>\n",
       "      <td>9.0</td>\n",
       "      <td>0.7</td>\n",
       "    </tr>\n",
       "    <tr>\n",
       "      <th>1</th>\n",
       "      <td>0.2</td>\n",
       "      <td>Glass</td>\n",
       "      <td>Black</td>\n",
       "      <td>4.8</td>\n",
       "      <td>300</td>\n",
       "      <td>800</td>\n",
       "      <td>25</td>\n",
       "      <td>5.7</td>\n",
       "      <td>2.8</td>\n",
       "      <td>0.3</td>\n",
       "    </tr>\n",
       "    <tr>\n",
       "      <th>2</th>\n",
       "      <td>0.4</td>\n",
       "      <td>Plastic</td>\n",
       "      <td>White</td>\n",
       "      <td>4.3</td>\n",
       "      <td>80</td>\n",
       "      <td>100</td>\n",
       "      <td>28</td>\n",
       "      <td>8.0</td>\n",
       "      <td>7.0</td>\n",
       "      <td>2.0</td>\n",
       "    </tr>\n",
       "    <tr>\n",
       "      <th>3</th>\n",
       "      <td>0.1</td>\n",
       "      <td>Plastic</td>\n",
       "      <td>Black</td>\n",
       "      <td>4.6</td>\n",
       "      <td>150</td>\n",
       "      <td>250</td>\n",
       "      <td>15</td>\n",
       "      <td>1.5</td>\n",
       "      <td>1.5</td>\n",
       "      <td>0.4</td>\n",
       "    </tr>\n",
       "    <tr>\n",
       "      <th>4</th>\n",
       "      <td>1.0</td>\n",
       "      <td>Metal</td>\n",
       "      <td>Red</td>\n",
       "      <td>4.2</td>\n",
       "      <td>50</td>\n",
       "      <td>80</td>\n",
       "      <td>2</td>\n",
       "      <td>7.0</td>\n",
       "      <td>7.0</td>\n",
       "      <td>3.0</td>\n",
       "    </tr>\n",
       "  </tbody>\n",
       "</table>\n",
       "</div>"
      ],
      "text/plain": [
       "   Weight  Material   Color  Rating  NumReviews  Price  Category_Label  \\\n",
       "0     2.5  Aluminum  Silver     4.5         120   1200              23   \n",
       "1     0.2     Glass   Black     4.8         300    800              25   \n",
       "2     0.4   Plastic   White     4.3          80    100              28   \n",
       "3     0.1   Plastic   Black     4.6         150    250              15   \n",
       "4     1.0     Metal     Red     4.2          50     80               2   \n",
       "\n",
       "   Length  Width  Height  \n",
       "0    13.0    9.0     0.7  \n",
       "1     5.7    2.8     0.3  \n",
       "2     8.0    7.0     2.0  \n",
       "3     1.5    1.5     0.4  \n",
       "4     7.0    7.0     3.0  "
      ]
     },
     "execution_count": 25,
     "metadata": {},
     "output_type": "execute_result"
    }
   ],
   "source": [
    "df.head()"
   ]
  },
  {
   "cell_type": "code",
   "execution_count": 26,
   "metadata": {},
   "outputs": [
    {
     "data": {
      "text/plain": [
       "Material\n",
       "Plastic            90\n",
       "Metal               7\n",
       "Wood                4\n",
       "Fabric              4\n",
       "Nylon               4\n",
       "Aluminum            3\n",
       "Glass               3\n",
       "Stainless Steel     2\n",
       "Leather             1\n",
       "Paper               1\n",
       "Foam                1\n",
       "Name: count, dtype: int64"
      ]
     },
     "execution_count": 26,
     "metadata": {},
     "output_type": "execute_result"
    }
   ],
   "source": [
    "df[\"Material\"].value_counts()"
   ]
  },
  {
   "cell_type": "code",
   "execution_count": 27,
   "metadata": {},
   "outputs": [],
   "source": [
    "material_labels = {\n",
    "    \"Plastic\": 0,\n",
    "    \"Metal\": 1,\n",
    "    \"Wood\": 2,\n",
    "    \"Fabric\": 3,\n",
    "    \"Nylon\": 4,\n",
    "    \"Aluminum\": 5,\n",
    "    \"Glass\": 6,\n",
    "    \"Stainless Steel\": 7,\n",
    "    \"Leather\": 8,\n",
    "    \"Paper\": 9,\n",
    "    \"Foam\": 10\n",
    "}\n",
    "\n",
    "# Apply the labels to the 'Material' column\n",
    "df['Material_Label'] = df['Material'].map(material_labels)\n",
    "df.drop(\"Material\" , axis = 1 , inplace = True)"
   ]
  },
  {
   "cell_type": "code",
   "execution_count": 28,
   "metadata": {},
   "outputs": [
    {
     "data": {
      "text/plain": [
       "(120, 10)"
      ]
     },
     "execution_count": 28,
     "metadata": {},
     "output_type": "execute_result"
    }
   ],
   "source": [
    "df.shape"
   ]
  },
  {
   "cell_type": "code",
   "execution_count": null,
   "metadata": {},
   "outputs": [],
   "source": []
  },
  {
   "cell_type": "code",
   "execution_count": 29,
   "metadata": {},
   "outputs": [
    {
     "data": {
      "text/html": [
       "<div>\n",
       "<style scoped>\n",
       "    .dataframe tbody tr th:only-of-type {\n",
       "        vertical-align: middle;\n",
       "    }\n",
       "\n",
       "    .dataframe tbody tr th {\n",
       "        vertical-align: top;\n",
       "    }\n",
       "\n",
       "    .dataframe thead th {\n",
       "        text-align: right;\n",
       "    }\n",
       "</style>\n",
       "<table border=\"1\" class=\"dataframe\">\n",
       "  <thead>\n",
       "    <tr style=\"text-align: right;\">\n",
       "      <th></th>\n",
       "      <th>Weight</th>\n",
       "      <th>Color</th>\n",
       "      <th>Rating</th>\n",
       "      <th>NumReviews</th>\n",
       "      <th>Price</th>\n",
       "      <th>Category_Label</th>\n",
       "      <th>Length</th>\n",
       "      <th>Width</th>\n",
       "      <th>Height</th>\n",
       "      <th>Material_Label</th>\n",
       "    </tr>\n",
       "  </thead>\n",
       "  <tbody>\n",
       "    <tr>\n",
       "      <th>0</th>\n",
       "      <td>2.5</td>\n",
       "      <td>Silver</td>\n",
       "      <td>4.5</td>\n",
       "      <td>120</td>\n",
       "      <td>1200</td>\n",
       "      <td>23</td>\n",
       "      <td>13.0</td>\n",
       "      <td>9.0</td>\n",
       "      <td>0.7</td>\n",
       "      <td>5</td>\n",
       "    </tr>\n",
       "    <tr>\n",
       "      <th>1</th>\n",
       "      <td>0.2</td>\n",
       "      <td>Black</td>\n",
       "      <td>4.8</td>\n",
       "      <td>300</td>\n",
       "      <td>800</td>\n",
       "      <td>25</td>\n",
       "      <td>5.7</td>\n",
       "      <td>2.8</td>\n",
       "      <td>0.3</td>\n",
       "      <td>6</td>\n",
       "    </tr>\n",
       "    <tr>\n",
       "      <th>2</th>\n",
       "      <td>0.4</td>\n",
       "      <td>White</td>\n",
       "      <td>4.3</td>\n",
       "      <td>80</td>\n",
       "      <td>100</td>\n",
       "      <td>28</td>\n",
       "      <td>8.0</td>\n",
       "      <td>7.0</td>\n",
       "      <td>2.0</td>\n",
       "      <td>0</td>\n",
       "    </tr>\n",
       "    <tr>\n",
       "      <th>3</th>\n",
       "      <td>0.1</td>\n",
       "      <td>Black</td>\n",
       "      <td>4.6</td>\n",
       "      <td>150</td>\n",
       "      <td>250</td>\n",
       "      <td>15</td>\n",
       "      <td>1.5</td>\n",
       "      <td>1.5</td>\n",
       "      <td>0.4</td>\n",
       "      <td>0</td>\n",
       "    </tr>\n",
       "    <tr>\n",
       "      <th>4</th>\n",
       "      <td>1.0</td>\n",
       "      <td>Red</td>\n",
       "      <td>4.2</td>\n",
       "      <td>50</td>\n",
       "      <td>80</td>\n",
       "      <td>2</td>\n",
       "      <td>7.0</td>\n",
       "      <td>7.0</td>\n",
       "      <td>3.0</td>\n",
       "      <td>1</td>\n",
       "    </tr>\n",
       "  </tbody>\n",
       "</table>\n",
       "</div>"
      ],
      "text/plain": [
       "   Weight   Color  Rating  NumReviews  Price  Category_Label  Length  Width  \\\n",
       "0     2.5  Silver     4.5         120   1200              23    13.0    9.0   \n",
       "1     0.2   Black     4.8         300    800              25     5.7    2.8   \n",
       "2     0.4   White     4.3          80    100              28     8.0    7.0   \n",
       "3     0.1   Black     4.6         150    250              15     1.5    1.5   \n",
       "4     1.0     Red     4.2          50     80               2     7.0    7.0   \n",
       "\n",
       "   Height  Material_Label  \n",
       "0     0.7               5  \n",
       "1     0.3               6  \n",
       "2     2.0               0  \n",
       "3     0.4               0  \n",
       "4     3.0               1  "
      ]
     },
     "execution_count": 29,
     "metadata": {},
     "output_type": "execute_result"
    }
   ],
   "source": [
    "df.head()"
   ]
  },
  {
   "cell_type": "code",
   "execution_count": 30,
   "metadata": {},
   "outputs": [
    {
     "data": {
      "text/plain": [
       "Color\n",
       "Black     64\n",
       "White     31\n",
       "Silver     8\n",
       "Blue       5\n",
       "Green      4\n",
       "Red        3\n",
       "RGB        2\n",
       "Brown      2\n",
       "Beige      1\n",
       "Name: count, dtype: int64"
      ]
     },
     "execution_count": 30,
     "metadata": {},
     "output_type": "execute_result"
    }
   ],
   "source": [
    "df[\"Color\"].value_counts()"
   ]
  },
  {
   "cell_type": "code",
   "execution_count": 31,
   "metadata": {},
   "outputs": [],
   "source": [
    "color_labels = {\n",
    "    \"Black\": 0,\n",
    "    \"White\": 1,\n",
    "    \"Silver\": 2,\n",
    "    \"Blue\": 3,\n",
    "    \"Green\": 4,\n",
    "    \"Red\": 5,\n",
    "    \"RGB\": 6,\n",
    "    \"Brown\": 7,\n",
    "    \"Beige\": 8\n",
    "}\n",
    "\n",
    "# Apply the labels to the 'Color' column\n",
    "df['Color_Label'] = df['Color'].map(color_labels)\n",
    "df.drop(\"Color\" , axis = 1 , inplace = True)"
   ]
  },
  {
   "cell_type": "code",
   "execution_count": 32,
   "metadata": {},
   "outputs": [
    {
     "data": {
      "text/html": [
       "<div>\n",
       "<style scoped>\n",
       "    .dataframe tbody tr th:only-of-type {\n",
       "        vertical-align: middle;\n",
       "    }\n",
       "\n",
       "    .dataframe tbody tr th {\n",
       "        vertical-align: top;\n",
       "    }\n",
       "\n",
       "    .dataframe thead th {\n",
       "        text-align: right;\n",
       "    }\n",
       "</style>\n",
       "<table border=\"1\" class=\"dataframe\">\n",
       "  <thead>\n",
       "    <tr style=\"text-align: right;\">\n",
       "      <th></th>\n",
       "      <th>Weight</th>\n",
       "      <th>Rating</th>\n",
       "      <th>NumReviews</th>\n",
       "      <th>Price</th>\n",
       "      <th>Category_Label</th>\n",
       "      <th>Length</th>\n",
       "      <th>Width</th>\n",
       "      <th>Height</th>\n",
       "      <th>Material_Label</th>\n",
       "      <th>Color_Label</th>\n",
       "    </tr>\n",
       "  </thead>\n",
       "  <tbody>\n",
       "    <tr>\n",
       "      <th>0</th>\n",
       "      <td>2.5</td>\n",
       "      <td>4.5</td>\n",
       "      <td>120</td>\n",
       "      <td>1200</td>\n",
       "      <td>23</td>\n",
       "      <td>13.0</td>\n",
       "      <td>9.0</td>\n",
       "      <td>0.7</td>\n",
       "      <td>5</td>\n",
       "      <td>2</td>\n",
       "    </tr>\n",
       "    <tr>\n",
       "      <th>1</th>\n",
       "      <td>0.2</td>\n",
       "      <td>4.8</td>\n",
       "      <td>300</td>\n",
       "      <td>800</td>\n",
       "      <td>25</td>\n",
       "      <td>5.7</td>\n",
       "      <td>2.8</td>\n",
       "      <td>0.3</td>\n",
       "      <td>6</td>\n",
       "      <td>0</td>\n",
       "    </tr>\n",
       "    <tr>\n",
       "      <th>2</th>\n",
       "      <td>0.4</td>\n",
       "      <td>4.3</td>\n",
       "      <td>80</td>\n",
       "      <td>100</td>\n",
       "      <td>28</td>\n",
       "      <td>8.0</td>\n",
       "      <td>7.0</td>\n",
       "      <td>2.0</td>\n",
       "      <td>0</td>\n",
       "      <td>1</td>\n",
       "    </tr>\n",
       "    <tr>\n",
       "      <th>3</th>\n",
       "      <td>0.1</td>\n",
       "      <td>4.6</td>\n",
       "      <td>150</td>\n",
       "      <td>250</td>\n",
       "      <td>15</td>\n",
       "      <td>1.5</td>\n",
       "      <td>1.5</td>\n",
       "      <td>0.4</td>\n",
       "      <td>0</td>\n",
       "      <td>0</td>\n",
       "    </tr>\n",
       "    <tr>\n",
       "      <th>4</th>\n",
       "      <td>1.0</td>\n",
       "      <td>4.2</td>\n",
       "      <td>50</td>\n",
       "      <td>80</td>\n",
       "      <td>2</td>\n",
       "      <td>7.0</td>\n",
       "      <td>7.0</td>\n",
       "      <td>3.0</td>\n",
       "      <td>1</td>\n",
       "      <td>5</td>\n",
       "    </tr>\n",
       "  </tbody>\n",
       "</table>\n",
       "</div>"
      ],
      "text/plain": [
       "   Weight  Rating  NumReviews  Price  Category_Label  Length  Width  Height  \\\n",
       "0     2.5     4.5         120   1200              23    13.0    9.0     0.7   \n",
       "1     0.2     4.8         300    800              25     5.7    2.8     0.3   \n",
       "2     0.4     4.3          80    100              28     8.0    7.0     2.0   \n",
       "3     0.1     4.6         150    250              15     1.5    1.5     0.4   \n",
       "4     1.0     4.2          50     80               2     7.0    7.0     3.0   \n",
       "\n",
       "   Material_Label  Color_Label  \n",
       "0               5            2  \n",
       "1               6            0  \n",
       "2               0            1  \n",
       "3               0            0  \n",
       "4               1            5  "
      ]
     },
     "execution_count": 32,
     "metadata": {},
     "output_type": "execute_result"
    }
   ],
   "source": [
    "df.head()"
   ]
  },
  {
   "cell_type": "code",
   "execution_count": 33,
   "metadata": {},
   "outputs": [
    {
     "data": {
      "text/plain": [
       "Index(['Weight', 'Rating', 'NumReviews', 'Price', 'Category_Label', 'Length',\n",
       "       'Width', 'Height', 'Material_Label', 'Color_Label'],\n",
       "      dtype='object')"
      ]
     },
     "execution_count": 33,
     "metadata": {},
     "output_type": "execute_result"
    }
   ],
   "source": [
    "df.columns"
   ]
  },
  {
   "cell_type": "code",
   "execution_count": 34,
   "metadata": {},
   "outputs": [],
   "source": [
    "df = df.replace({True: 1, False: 0})"
   ]
  },
  {
   "cell_type": "code",
   "execution_count": 35,
   "metadata": {},
   "outputs": [],
   "source": [
    "correlation_matrix = df.corr()"
   ]
  },
  {
   "cell_type": "code",
   "execution_count": 36,
   "metadata": {},
   "outputs": [
    {
     "data": {
      "text/html": [
       "<div>\n",
       "<style scoped>\n",
       "    .dataframe tbody tr th:only-of-type {\n",
       "        vertical-align: middle;\n",
       "    }\n",
       "\n",
       "    .dataframe tbody tr th {\n",
       "        vertical-align: top;\n",
       "    }\n",
       "\n",
       "    .dataframe thead th {\n",
       "        text-align: right;\n",
       "    }\n",
       "</style>\n",
       "<table border=\"1\" class=\"dataframe\">\n",
       "  <thead>\n",
       "    <tr style=\"text-align: right;\">\n",
       "      <th></th>\n",
       "      <th>Weight</th>\n",
       "      <th>Rating</th>\n",
       "      <th>NumReviews</th>\n",
       "      <th>Price</th>\n",
       "      <th>Category_Label</th>\n",
       "      <th>Length</th>\n",
       "      <th>Width</th>\n",
       "      <th>Height</th>\n",
       "      <th>Material_Label</th>\n",
       "      <th>Color_Label</th>\n",
       "    </tr>\n",
       "  </thead>\n",
       "  <tbody>\n",
       "    <tr>\n",
       "      <th>Weight</th>\n",
       "      <td>1.000000</td>\n",
       "      <td>0.151751</td>\n",
       "      <td>0.274401</td>\n",
       "      <td>0.459568</td>\n",
       "      <td>-0.008930</td>\n",
       "      <td>0.869628</td>\n",
       "      <td>0.653406</td>\n",
       "      <td>0.340372</td>\n",
       "      <td>0.265543</td>\n",
       "      <td>-0.054337</td>\n",
       "    </tr>\n",
       "    <tr>\n",
       "      <th>Rating</th>\n",
       "      <td>0.151751</td>\n",
       "      <td>1.000000</td>\n",
       "      <td>0.675642</td>\n",
       "      <td>0.265281</td>\n",
       "      <td>0.271227</td>\n",
       "      <td>0.111447</td>\n",
       "      <td>0.131470</td>\n",
       "      <td>0.013262</td>\n",
       "      <td>0.184489</td>\n",
       "      <td>-0.033082</td>\n",
       "    </tr>\n",
       "    <tr>\n",
       "      <th>NumReviews</th>\n",
       "      <td>0.274401</td>\n",
       "      <td>0.675642</td>\n",
       "      <td>1.000000</td>\n",
       "      <td>0.195965</td>\n",
       "      <td>0.119899</td>\n",
       "      <td>0.224708</td>\n",
       "      <td>0.263050</td>\n",
       "      <td>0.241765</td>\n",
       "      <td>0.173566</td>\n",
       "      <td>-0.020106</td>\n",
       "    </tr>\n",
       "    <tr>\n",
       "      <th>Price</th>\n",
       "      <td>0.459568</td>\n",
       "      <td>0.265281</td>\n",
       "      <td>0.195965</td>\n",
       "      <td>1.000000</td>\n",
       "      <td>0.375178</td>\n",
       "      <td>0.384390</td>\n",
       "      <td>0.320746</td>\n",
       "      <td>0.014529</td>\n",
       "      <td>0.239697</td>\n",
       "      <td>-0.045195</td>\n",
       "    </tr>\n",
       "    <tr>\n",
       "      <th>Category_Label</th>\n",
       "      <td>-0.008930</td>\n",
       "      <td>0.271227</td>\n",
       "      <td>0.119899</td>\n",
       "      <td>0.375178</td>\n",
       "      <td>1.000000</td>\n",
       "      <td>-0.024875</td>\n",
       "      <td>-0.054552</td>\n",
       "      <td>-0.238509</td>\n",
       "      <td>0.017614</td>\n",
       "      <td>0.149970</td>\n",
       "    </tr>\n",
       "    <tr>\n",
       "      <th>Length</th>\n",
       "      <td>0.869628</td>\n",
       "      <td>0.111447</td>\n",
       "      <td>0.224708</td>\n",
       "      <td>0.384390</td>\n",
       "      <td>-0.024875</td>\n",
       "      <td>1.000000</td>\n",
       "      <td>0.821120</td>\n",
       "      <td>0.347022</td>\n",
       "      <td>0.385504</td>\n",
       "      <td>-0.026277</td>\n",
       "    </tr>\n",
       "    <tr>\n",
       "      <th>Width</th>\n",
       "      <td>0.653406</td>\n",
       "      <td>0.131470</td>\n",
       "      <td>0.263050</td>\n",
       "      <td>0.320746</td>\n",
       "      <td>-0.054552</td>\n",
       "      <td>0.821120</td>\n",
       "      <td>1.000000</td>\n",
       "      <td>0.533891</td>\n",
       "      <td>0.353585</td>\n",
       "      <td>0.004668</td>\n",
       "    </tr>\n",
       "    <tr>\n",
       "      <th>Height</th>\n",
       "      <td>0.340372</td>\n",
       "      <td>0.013262</td>\n",
       "      <td>0.241765</td>\n",
       "      <td>0.014529</td>\n",
       "      <td>-0.238509</td>\n",
       "      <td>0.347022</td>\n",
       "      <td>0.533891</td>\n",
       "      <td>1.000000</td>\n",
       "      <td>0.003239</td>\n",
       "      <td>0.117762</td>\n",
       "    </tr>\n",
       "    <tr>\n",
       "      <th>Material_Label</th>\n",
       "      <td>0.265543</td>\n",
       "      <td>0.184489</td>\n",
       "      <td>0.173566</td>\n",
       "      <td>0.239697</td>\n",
       "      <td>0.017614</td>\n",
       "      <td>0.385504</td>\n",
       "      <td>0.353585</td>\n",
       "      <td>0.003239</td>\n",
       "      <td>1.000000</td>\n",
       "      <td>-0.120360</td>\n",
       "    </tr>\n",
       "    <tr>\n",
       "      <th>Color_Label</th>\n",
       "      <td>-0.054337</td>\n",
       "      <td>-0.033082</td>\n",
       "      <td>-0.020106</td>\n",
       "      <td>-0.045195</td>\n",
       "      <td>0.149970</td>\n",
       "      <td>-0.026277</td>\n",
       "      <td>0.004668</td>\n",
       "      <td>0.117762</td>\n",
       "      <td>-0.120360</td>\n",
       "      <td>1.000000</td>\n",
       "    </tr>\n",
       "  </tbody>\n",
       "</table>\n",
       "</div>"
      ],
      "text/plain": [
       "                  Weight    Rating  NumReviews     Price  Category_Label  \\\n",
       "Weight          1.000000  0.151751    0.274401  0.459568       -0.008930   \n",
       "Rating          0.151751  1.000000    0.675642  0.265281        0.271227   \n",
       "NumReviews      0.274401  0.675642    1.000000  0.195965        0.119899   \n",
       "Price           0.459568  0.265281    0.195965  1.000000        0.375178   \n",
       "Category_Label -0.008930  0.271227    0.119899  0.375178        1.000000   \n",
       "Length          0.869628  0.111447    0.224708  0.384390       -0.024875   \n",
       "Width           0.653406  0.131470    0.263050  0.320746       -0.054552   \n",
       "Height          0.340372  0.013262    0.241765  0.014529       -0.238509   \n",
       "Material_Label  0.265543  0.184489    0.173566  0.239697        0.017614   \n",
       "Color_Label    -0.054337 -0.033082   -0.020106 -0.045195        0.149970   \n",
       "\n",
       "                  Length     Width    Height  Material_Label  Color_Label  \n",
       "Weight          0.869628  0.653406  0.340372        0.265543    -0.054337  \n",
       "Rating          0.111447  0.131470  0.013262        0.184489    -0.033082  \n",
       "NumReviews      0.224708  0.263050  0.241765        0.173566    -0.020106  \n",
       "Price           0.384390  0.320746  0.014529        0.239697    -0.045195  \n",
       "Category_Label -0.024875 -0.054552 -0.238509        0.017614     0.149970  \n",
       "Length          1.000000  0.821120  0.347022        0.385504    -0.026277  \n",
       "Width           0.821120  1.000000  0.533891        0.353585     0.004668  \n",
       "Height          0.347022  0.533891  1.000000        0.003239     0.117762  \n",
       "Material_Label  0.385504  0.353585  0.003239        1.000000    -0.120360  \n",
       "Color_Label    -0.026277  0.004668  0.117762       -0.120360     1.000000  "
      ]
     },
     "execution_count": 36,
     "metadata": {},
     "output_type": "execute_result"
    }
   ],
   "source": [
    "correlation_matrix"
   ]
  },
  {
   "cell_type": "code",
   "execution_count": 37,
   "metadata": {},
   "outputs": [],
   "source": [
    "x = df.drop(\"Price\" , axis = 1)\n",
    "y = df[[\"Price\"]]"
   ]
  },
  {
   "cell_type": "code",
   "execution_count": 38,
   "metadata": {},
   "outputs": [
    {
     "data": {
      "text/html": [
       "<div>\n",
       "<style scoped>\n",
       "    .dataframe tbody tr th:only-of-type {\n",
       "        vertical-align: middle;\n",
       "    }\n",
       "\n",
       "    .dataframe tbody tr th {\n",
       "        vertical-align: top;\n",
       "    }\n",
       "\n",
       "    .dataframe thead th {\n",
       "        text-align: right;\n",
       "    }\n",
       "</style>\n",
       "<table border=\"1\" class=\"dataframe\">\n",
       "  <thead>\n",
       "    <tr style=\"text-align: right;\">\n",
       "      <th></th>\n",
       "      <th>Weight</th>\n",
       "      <th>Rating</th>\n",
       "      <th>NumReviews</th>\n",
       "      <th>Category_Label</th>\n",
       "      <th>Length</th>\n",
       "      <th>Width</th>\n",
       "      <th>Height</th>\n",
       "      <th>Material_Label</th>\n",
       "      <th>Color_Label</th>\n",
       "    </tr>\n",
       "  </thead>\n",
       "  <tbody>\n",
       "    <tr>\n",
       "      <th>0</th>\n",
       "      <td>2.5</td>\n",
       "      <td>4.5</td>\n",
       "      <td>120</td>\n",
       "      <td>23</td>\n",
       "      <td>13.0</td>\n",
       "      <td>9.0</td>\n",
       "      <td>0.7</td>\n",
       "      <td>5</td>\n",
       "      <td>2</td>\n",
       "    </tr>\n",
       "    <tr>\n",
       "      <th>1</th>\n",
       "      <td>0.2</td>\n",
       "      <td>4.8</td>\n",
       "      <td>300</td>\n",
       "      <td>25</td>\n",
       "      <td>5.7</td>\n",
       "      <td>2.8</td>\n",
       "      <td>0.3</td>\n",
       "      <td>6</td>\n",
       "      <td>0</td>\n",
       "    </tr>\n",
       "    <tr>\n",
       "      <th>2</th>\n",
       "      <td>0.4</td>\n",
       "      <td>4.3</td>\n",
       "      <td>80</td>\n",
       "      <td>28</td>\n",
       "      <td>8.0</td>\n",
       "      <td>7.0</td>\n",
       "      <td>2.0</td>\n",
       "      <td>0</td>\n",
       "      <td>1</td>\n",
       "    </tr>\n",
       "    <tr>\n",
       "      <th>3</th>\n",
       "      <td>0.1</td>\n",
       "      <td>4.6</td>\n",
       "      <td>150</td>\n",
       "      <td>15</td>\n",
       "      <td>1.5</td>\n",
       "      <td>1.5</td>\n",
       "      <td>0.4</td>\n",
       "      <td>0</td>\n",
       "      <td>0</td>\n",
       "    </tr>\n",
       "    <tr>\n",
       "      <th>4</th>\n",
       "      <td>1.0</td>\n",
       "      <td>4.2</td>\n",
       "      <td>50</td>\n",
       "      <td>2</td>\n",
       "      <td>7.0</td>\n",
       "      <td>7.0</td>\n",
       "      <td>3.0</td>\n",
       "      <td>1</td>\n",
       "      <td>5</td>\n",
       "    </tr>\n",
       "  </tbody>\n",
       "</table>\n",
       "</div>"
      ],
      "text/plain": [
       "   Weight  Rating  NumReviews  Category_Label  Length  Width  Height  \\\n",
       "0     2.5     4.5         120              23    13.0    9.0     0.7   \n",
       "1     0.2     4.8         300              25     5.7    2.8     0.3   \n",
       "2     0.4     4.3          80              28     8.0    7.0     2.0   \n",
       "3     0.1     4.6         150              15     1.5    1.5     0.4   \n",
       "4     1.0     4.2          50               2     7.0    7.0     3.0   \n",
       "\n",
       "   Material_Label  Color_Label  \n",
       "0               5            2  \n",
       "1               6            0  \n",
       "2               0            1  \n",
       "3               0            0  \n",
       "4               1            5  "
      ]
     },
     "execution_count": 38,
     "metadata": {},
     "output_type": "execute_result"
    }
   ],
   "source": [
    "x.head()"
   ]
  },
  {
   "cell_type": "code",
   "execution_count": 39,
   "metadata": {},
   "outputs": [
    {
     "data": {
      "text/plain": [
       "Index(['Weight', 'Rating', 'NumReviews', 'Category_Label', 'Length', 'Width',\n",
       "       'Height', 'Material_Label', 'Color_Label'],\n",
       "      dtype='object')"
      ]
     },
     "execution_count": 39,
     "metadata": {},
     "output_type": "execute_result"
    }
   ],
   "source": [
    "x.columns"
   ]
  },
  {
   "cell_type": "code",
   "execution_count": 40,
   "metadata": {},
   "outputs": [],
   "source": [
    "from sklearn.model_selection import train_test_split\n",
    "\n",
    "X_train, X_test, y_train, y_test = train_test_split(x, y, test_size=0.2, random_state=42)"
   ]
  },
  {
   "cell_type": "code",
   "execution_count": 41,
   "metadata": {},
   "outputs": [
    {
     "name": "stdout",
     "output_type": "stream",
     "text": [
      "Training Set:\n",
      "Mean Squared Error: 2349.358485190485\n",
      "Root Mean Squared Error: 48.47018140249204\n",
      "Mean Absolute Error: 30.72016871643463\n",
      "\n",
      "Testing Set:\n",
      "Mean Squared Error: 30423.15654680861\n",
      "Root Mean Squared Error: 174.42235105286423\n",
      "Mean Absolute Error: 65.11307178544264\n"
     ]
    },
    {
     "name": "stderr",
     "output_type": "stream",
     "text": [
      "C:\\Users\\maste\\AppData\\Local\\Temp\\ipykernel_528\\1799856146.py:12: DataConversionWarning: A column-vector y was passed when a 1d array was expected. Please change the shape of y to (n_samples,), for example using ravel().\n",
      "  model.fit(X_train, y_train)\n"
     ]
    }
   ],
   "source": [
    "from sklearn.ensemble import RandomForestRegressor\n",
    "from sklearn.metrics import mean_squared_error, mean_absolute_error\n",
    "from math import sqrt  # for calculating RMSE\n",
    "\n",
    "n_estimators = 100  # Number of trees in the forest\n",
    "max_depth = 5       # Maximum depth of each tree\n",
    "\n",
    "# Create the RandomForestRegressor object\n",
    "model = RandomForestRegressor(n_estimators=n_estimators, max_depth=max_depth)\n",
    "\n",
    "# Train the model\n",
    "model.fit(X_train, y_train)\n",
    "\n",
    "# Make predictions on training and testing data\n",
    "y_train_pred = model.predict(X_train)\n",
    "y_test_pred = model.predict(X_test)\n",
    "\n",
    "# Calculate evaluation metrics for training data\n",
    "mse_train = mean_squared_error(y_train, y_train_pred)\n",
    "rmse_train = sqrt(mse_train)\n",
    "mae_train = mean_absolute_error(y_train, y_train_pred)\n",
    "\n",
    "# Calculate evaluation metrics for testing data\n",
    "mse_test = mean_squared_error(y_test, y_test_pred)\n",
    "rmse_test = sqrt(mse_test)\n",
    "mae_test = mean_absolute_error(y_test, y_test_pred)\n",
    "\n",
    "# Print the results\n",
    "print(\"Training Set:\")\n",
    "print(\"Mean Squared Error:\", mse_train)\n",
    "print(\"Root Mean Squared Error:\", rmse_train)\n",
    "print(\"Mean Absolute Error:\", mae_train)\n",
    "\n",
    "print(\"\\nTesting Set:\")\n",
    "print(\"Mean Squared Error:\", mse_test)\n",
    "print(\"Root Mean Squared Error:\", rmse_test)\n",
    "print(\"Mean Absolute Error:\", mae_test)"
   ]
  },
  {
   "cell_type": "code",
   "execution_count": 42,
   "metadata": {},
   "outputs": [],
   "source": [
    "import pickle\n",
    "\n",
    "def dump_model_to_pkl(model, filename):\n",
    "  \"\"\"Dumps a trained machine learning model to a pickle file.\n",
    "\n",
    "  Args:\n",
    "      model: The trained machine learning model object to be saved.\n",
    "      filename (str): The name of the pickle file to create.\n",
    "  \"\"\"\n",
    "\n",
    "  try:\n",
    "    with open(filename, 'wb') as f:\n",
    "      pickle.dump(model, f)\n",
    "    print(f\"Model successfully saved to '{filename}'.\")\n",
    "\n",
    "  except Exception as e:\n",
    "    print(f\"Error saving model: {e}\")"
   ]
  },
  {
   "cell_type": "code",
   "execution_count": 43,
   "metadata": {},
   "outputs": [
    {
     "name": "stdout",
     "output_type": "stream",
     "text": [
      "Model successfully saved to 'product_price_recommendation_model.pkl'.\n"
     ]
    }
   ],
   "source": [
    "dump_model_to_pkl(model , \"product_price_recommendation_model.pkl\")"
   ]
  },
  {
   "cell_type": "code",
   "execution_count": null,
   "metadata": {},
   "outputs": [],
   "source": []
  }
 ],
 "metadata": {
  "kernelspec": {
   "display_name": "Python 3 (ipykernel)",
   "language": "python",
   "name": "python3"
  },
  "language_info": {
   "codemirror_mode": {
    "name": "ipython",
    "version": 3
   },
   "file_extension": ".py",
   "mimetype": "text/x-python",
   "name": "python",
   "nbconvert_exporter": "python",
   "pygments_lexer": "ipython3",
   "version": "3.11.7"
  }
 },
 "nbformat": 4,
 "nbformat_minor": 4
}
