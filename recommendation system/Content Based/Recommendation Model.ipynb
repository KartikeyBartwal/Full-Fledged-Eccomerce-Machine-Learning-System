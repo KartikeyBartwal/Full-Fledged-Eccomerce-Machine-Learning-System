{
 "cells": [
  {
   "cell_type": "code",
   "execution_count": 1,
   "id": "6e3407f0-ae06-4d6b-8d6c-1e2f67fd8923",
   "metadata": {},
   "outputs": [],
   "source": [
    "import numpy as np\n",
    "import pandas as pd"
   ]
  },
  {
   "cell_type": "code",
   "execution_count": 2,
   "id": "56aea629-3010-4095-b39f-8a1c4fa345c3",
   "metadata": {},
   "outputs": [],
   "source": [
    "df = pd.read_csv(\"content_based_recommendation_dataset.csv\")\n",
    "df = df.drop_duplicates()"
   ]
  },
  {
   "cell_type": "code",
   "execution_count": 3,
   "id": "09e70466-bc0a-4655-969a-7932b9c57f80",
   "metadata": {},
   "outputs": [
    {
     "data": {
      "text/plain": [
       "(1018, 13)"
      ]
     },
     "execution_count": 3,
     "metadata": {},
     "output_type": "execute_result"
    }
   ],
   "source": [
    "df.shape"
   ]
  },
  {
   "cell_type": "code",
   "execution_count": 4,
   "id": "666e4a01-c3b6-4bf5-a5a3-29e1b801a6c1",
   "metadata": {},
   "outputs": [
    {
     "data": {
      "text/plain": [
       "Index(['Number of clicks on similar products',\n",
       "       'Number of similar products purchased so far',\n",
       "       'Average rating given to similar products', 'Gender',\n",
       "       'Median purchasing price (in rupees)', 'Rating of the product',\n",
       "       'Brand of the product', 'Customer review sentiment score (overall)',\n",
       "       'Price of the product', 'Holiday', 'Season', 'Geographical locations',\n",
       "       'Probability for the product to be recommended to the person'],\n",
       "      dtype='object')"
      ]
     },
     "execution_count": 4,
     "metadata": {},
     "output_type": "execute_result"
    }
   ],
   "source": [
    "df.columns"
   ]
  },
  {
   "cell_type": "code",
   "execution_count": 5,
   "id": "915f023c-8205-4c79-9f28-3f27cfca2742",
   "metadata": {},
   "outputs": [],
   "source": [
    "df = df[[\"Number of similar products purchased so far\" , \"Rating of the product\" , \"Gender\" , \"Median purchasing price (in rupees)\" ,  \"Price of the product\" , \"Holiday\" , \"Season\" , \"Probability for the product to be recommended to the person\"]]"
   ]
  },
  {
   "cell_type": "code",
   "execution_count": 6,
   "id": "3a5697a4-42bb-4ee0-9258-6b275923ae62",
   "metadata": {},
   "outputs": [
    {
     "data": {
      "text/html": [
       "<div>\n",
       "<style scoped>\n",
       "    .dataframe tbody tr th:only-of-type {\n",
       "        vertical-align: middle;\n",
       "    }\n",
       "\n",
       "    .dataframe tbody tr th {\n",
       "        vertical-align: top;\n",
       "    }\n",
       "\n",
       "    .dataframe thead th {\n",
       "        text-align: right;\n",
       "    }\n",
       "</style>\n",
       "<table border=\"1\" class=\"dataframe\">\n",
       "  <thead>\n",
       "    <tr style=\"text-align: right;\">\n",
       "      <th></th>\n",
       "      <th>Number of similar products purchased so far</th>\n",
       "      <th>Rating of the product</th>\n",
       "      <th>Gender</th>\n",
       "      <th>Median purchasing price (in rupees)</th>\n",
       "      <th>Price of the product</th>\n",
       "      <th>Holiday</th>\n",
       "      <th>Season</th>\n",
       "      <th>Probability for the product to be recommended to the person</th>\n",
       "    </tr>\n",
       "  </thead>\n",
       "  <tbody>\n",
       "    <tr>\n",
       "      <th>0</th>\n",
       "      <td>4</td>\n",
       "      <td>4.5</td>\n",
       "      <td>male</td>\n",
       "      <td>500</td>\n",
       "      <td>200</td>\n",
       "      <td>No</td>\n",
       "      <td>winter</td>\n",
       "      <td>0.9</td>\n",
       "    </tr>\n",
       "    <tr>\n",
       "      <th>1</th>\n",
       "      <td>2</td>\n",
       "      <td>3.2</td>\n",
       "      <td>female</td>\n",
       "      <td>3000</td>\n",
       "      <td>300</td>\n",
       "      <td>Yes</td>\n",
       "      <td>monsoon</td>\n",
       "      <td>0.2</td>\n",
       "    </tr>\n",
       "    <tr>\n",
       "      <th>2</th>\n",
       "      <td>10</td>\n",
       "      <td>4.8</td>\n",
       "      <td>female</td>\n",
       "      <td>600</td>\n",
       "      <td>1000</td>\n",
       "      <td>No</td>\n",
       "      <td>spring</td>\n",
       "      <td>0.7</td>\n",
       "    </tr>\n",
       "    <tr>\n",
       "      <th>3</th>\n",
       "      <td>1</td>\n",
       "      <td>2.5</td>\n",
       "      <td>female</td>\n",
       "      <td>100</td>\n",
       "      <td>300</td>\n",
       "      <td>No</td>\n",
       "      <td>summer</td>\n",
       "      <td>0.1</td>\n",
       "    </tr>\n",
       "    <tr>\n",
       "      <th>4</th>\n",
       "      <td>5</td>\n",
       "      <td>4.3</td>\n",
       "      <td>male</td>\n",
       "      <td>2000</td>\n",
       "      <td>700</td>\n",
       "      <td>Yes</td>\n",
       "      <td>winter</td>\n",
       "      <td>0.8</td>\n",
       "    </tr>\n",
       "  </tbody>\n",
       "</table>\n",
       "</div>"
      ],
      "text/plain": [
       "   Number of similar products purchased so far  Rating of the product  Gender  \\\n",
       "0                                            4                    4.5    male   \n",
       "1                                            2                    3.2  female   \n",
       "2                                           10                    4.8  female   \n",
       "3                                            1                    2.5  female   \n",
       "4                                            5                    4.3    male   \n",
       "\n",
       "   Median purchasing price (in rupees)  Price of the product Holiday   Season  \\\n",
       "0                                  500                   200      No   winter   \n",
       "1                                 3000                   300     Yes  monsoon   \n",
       "2                                  600                  1000      No   spring   \n",
       "3                                  100                   300      No   summer   \n",
       "4                                 2000                   700     Yes   winter   \n",
       "\n",
       "   Probability for the product to be recommended to the person  \n",
       "0                                                0.9            \n",
       "1                                                0.2            \n",
       "2                                                0.7            \n",
       "3                                                0.1            \n",
       "4                                                0.8            "
      ]
     },
     "execution_count": 6,
     "metadata": {},
     "output_type": "execute_result"
    }
   ],
   "source": [
    "df.head()"
   ]
  },
  {
   "cell_type": "markdown",
   "id": "7bef4b31-e672-48f3-908a-70bbb0acf219",
   "metadata": {},
   "source": [
    "## Exploratory Data Analysis"
   ]
  },
  {
   "cell_type": "code",
   "execution_count": 7,
   "id": "c1c3bbff-7b93-42bd-b992-6462e87d5a29",
   "metadata": {},
   "outputs": [],
   "source": [
    "# !pip install ydata-profiling"
   ]
  },
  {
   "cell_type": "code",
   "execution_count": 8,
   "id": "74235a3c-b479-4385-be43-e483d58820c8",
   "metadata": {},
   "outputs": [],
   "source": [
    "# import numpy as np\n",
    "# import pandas as pd\n",
    "# from ydata_profiling import ProfileReport\n",
    "\n",
    "# profile = ProfileReport(df, title=\"Profiling Report\")"
   ]
  },
  {
   "cell_type": "code",
   "execution_count": 9,
   "id": "63f2fecb-73cc-4a55-a27e-9238a48408f0",
   "metadata": {},
   "outputs": [],
   "source": [
    "# profile.to_widgets()"
   ]
  },
  {
   "cell_type": "code",
   "execution_count": 10,
   "id": "b169213a-7c94-4c9c-abbf-e41d702c9d6c",
   "metadata": {},
   "outputs": [],
   "source": [
    "# profile.to_notebook.iframe()"
   ]
  },
  {
   "cell_type": "code",
   "execution_count": 11,
   "id": "4d11b8b5-7797-4dc5-b4b3-7e24099207ef",
   "metadata": {},
   "outputs": [],
   "source": [
    "# profile.to_file(\"Report.html\")"
   ]
  },
  {
   "cell_type": "markdown",
   "id": "24df8af9-e051-4f69-8615-f50367a4f7a5",
   "metadata": {},
   "source": [
    "## Feature Engineering"
   ]
  },
  {
   "cell_type": "code",
   "execution_count": 12,
   "id": "e8d82500-7b7c-4001-b181-48ce8562a74b",
   "metadata": {},
   "outputs": [
    {
     "data": {
      "text/html": [
       "<div>\n",
       "<style scoped>\n",
       "    .dataframe tbody tr th:only-of-type {\n",
       "        vertical-align: middle;\n",
       "    }\n",
       "\n",
       "    .dataframe tbody tr th {\n",
       "        vertical-align: top;\n",
       "    }\n",
       "\n",
       "    .dataframe thead th {\n",
       "        text-align: right;\n",
       "    }\n",
       "</style>\n",
       "<table border=\"1\" class=\"dataframe\">\n",
       "  <thead>\n",
       "    <tr style=\"text-align: right;\">\n",
       "      <th></th>\n",
       "      <th>Number of similar products purchased so far</th>\n",
       "      <th>Rating of the product</th>\n",
       "      <th>Gender</th>\n",
       "      <th>Median purchasing price (in rupees)</th>\n",
       "      <th>Price of the product</th>\n",
       "      <th>Holiday</th>\n",
       "      <th>Season</th>\n",
       "      <th>Probability for the product to be recommended to the person</th>\n",
       "    </tr>\n",
       "  </thead>\n",
       "  <tbody>\n",
       "    <tr>\n",
       "      <th>0</th>\n",
       "      <td>4</td>\n",
       "      <td>4.5</td>\n",
       "      <td>male</td>\n",
       "      <td>500</td>\n",
       "      <td>200</td>\n",
       "      <td>No</td>\n",
       "      <td>winter</td>\n",
       "      <td>0.9</td>\n",
       "    </tr>\n",
       "    <tr>\n",
       "      <th>1</th>\n",
       "      <td>2</td>\n",
       "      <td>3.2</td>\n",
       "      <td>female</td>\n",
       "      <td>3000</td>\n",
       "      <td>300</td>\n",
       "      <td>Yes</td>\n",
       "      <td>monsoon</td>\n",
       "      <td>0.2</td>\n",
       "    </tr>\n",
       "    <tr>\n",
       "      <th>2</th>\n",
       "      <td>10</td>\n",
       "      <td>4.8</td>\n",
       "      <td>female</td>\n",
       "      <td>600</td>\n",
       "      <td>1000</td>\n",
       "      <td>No</td>\n",
       "      <td>spring</td>\n",
       "      <td>0.7</td>\n",
       "    </tr>\n",
       "    <tr>\n",
       "      <th>3</th>\n",
       "      <td>1</td>\n",
       "      <td>2.5</td>\n",
       "      <td>female</td>\n",
       "      <td>100</td>\n",
       "      <td>300</td>\n",
       "      <td>No</td>\n",
       "      <td>summer</td>\n",
       "      <td>0.1</td>\n",
       "    </tr>\n",
       "    <tr>\n",
       "      <th>4</th>\n",
       "      <td>5</td>\n",
       "      <td>4.3</td>\n",
       "      <td>male</td>\n",
       "      <td>2000</td>\n",
       "      <td>700</td>\n",
       "      <td>Yes</td>\n",
       "      <td>winter</td>\n",
       "      <td>0.8</td>\n",
       "    </tr>\n",
       "  </tbody>\n",
       "</table>\n",
       "</div>"
      ],
      "text/plain": [
       "   Number of similar products purchased so far  Rating of the product  Gender  \\\n",
       "0                                            4                    4.5    male   \n",
       "1                                            2                    3.2  female   \n",
       "2                                           10                    4.8  female   \n",
       "3                                            1                    2.5  female   \n",
       "4                                            5                    4.3    male   \n",
       "\n",
       "   Median purchasing price (in rupees)  Price of the product Holiday   Season  \\\n",
       "0                                  500                   200      No   winter   \n",
       "1                                 3000                   300     Yes  monsoon   \n",
       "2                                  600                  1000      No   spring   \n",
       "3                                  100                   300      No   summer   \n",
       "4                                 2000                   700     Yes   winter   \n",
       "\n",
       "   Probability for the product to be recommended to the person  \n",
       "0                                                0.9            \n",
       "1                                                0.2            \n",
       "2                                                0.7            \n",
       "3                                                0.1            \n",
       "4                                                0.8            "
      ]
     },
     "execution_count": 12,
     "metadata": {},
     "output_type": "execute_result"
    }
   ],
   "source": [
    "df.head()"
   ]
  },
  {
   "cell_type": "code",
   "execution_count": 13,
   "id": "0b307cb7-cef7-4527-8eb3-f160600ac9a3",
   "metadata": {},
   "outputs": [
    {
     "data": {
      "text/plain": [
       "Number of similar products purchased so far                    0\n",
       "Rating of the product                                          0\n",
       "Gender                                                         0\n",
       "Median purchasing price (in rupees)                            0\n",
       "Price of the product                                           0\n",
       "Holiday                                                        0\n",
       "Season                                                         0\n",
       "Probability for the product to be recommended to the person    0\n",
       "dtype: int64"
      ]
     },
     "execution_count": 13,
     "metadata": {},
     "output_type": "execute_result"
    }
   ],
   "source": [
    "df.isnull().sum()"
   ]
  },
  {
   "cell_type": "code",
   "execution_count": 14,
   "id": "8f5588b1-3975-439f-929d-923a6c105f37",
   "metadata": {},
   "outputs": [],
   "source": [
    "# Label Encoding\n",
    "replacement_mapping = {\n",
    "    \"male\" : 1,\n",
    "    \"female\" : 0,\n",
    "    \"Yes\" : 1,\n",
    "    \"No\" : 0\n",
    "}\n",
    "\n",
    "df[\"Gender\"] = df[\"Gender\"].replace(replacement_mapping)\n",
    "df[\"Holiday\"] = df[\"Holiday\"].replace(replacement_mapping)"
   ]
  },
  {
   "cell_type": "code",
   "execution_count": 15,
   "id": "8e7e890b-f5e2-45e2-bfcb-590574f346d8",
   "metadata": {},
   "outputs": [
    {
     "data": {
      "text/plain": [
       "Number of similar products purchased so far                    0\n",
       "Rating of the product                                          0\n",
       "Gender                                                         0\n",
       "Median purchasing price (in rupees)                            0\n",
       "Price of the product                                           0\n",
       "Holiday                                                        0\n",
       "Season                                                         0\n",
       "Probability for the product to be recommended to the person    0\n",
       "dtype: int64"
      ]
     },
     "execution_count": 15,
     "metadata": {},
     "output_type": "execute_result"
    }
   ],
   "source": [
    "df.isnull().sum()"
   ]
  },
  {
   "cell_type": "code",
   "execution_count": 16,
   "id": "e45151bd-0782-4ca8-aa06-43f6106d4ac0",
   "metadata": {},
   "outputs": [],
   "source": [
    "# One Hot Encoding on Season\n",
    "\n",
    "one_hot_encoded = pd.get_dummies(df['Season'], prefix='')\n",
    "one_hot_encoded = one_hot_encoded.astype(int)\n",
    "df = pd.concat([df, one_hot_encoded], axis=1)\n",
    "df.drop(\"Season\", axis=1, inplace=True)"
   ]
  },
  {
   "cell_type": "code",
   "execution_count": 17,
   "id": "0a3a9f4b-acde-409b-8269-328d854e7c4f",
   "metadata": {},
   "outputs": [
    {
     "data": {
      "text/plain": [
       "Number of similar products purchased so far                    0\n",
       "Rating of the product                                          0\n",
       "Gender                                                         0\n",
       "Median purchasing price (in rupees)                            0\n",
       "Price of the product                                           0\n",
       "Holiday                                                        0\n",
       "Probability for the product to be recommended to the person    0\n",
       "_monsoon                                                       0\n",
       "_spring                                                        0\n",
       "_summer                                                        0\n",
       "_winter                                                        0\n",
       "dtype: int64"
      ]
     },
     "execution_count": 17,
     "metadata": {},
     "output_type": "execute_result"
    }
   ],
   "source": [
    "df.isnull().sum()"
   ]
  },
  {
   "cell_type": "code",
   "execution_count": 18,
   "id": "966366ad-4f4c-4562-9134-7840b79240b2",
   "metadata": {},
   "outputs": [],
   "source": [
    "df.reset_index(inplace = True)"
   ]
  },
  {
   "cell_type": "code",
   "execution_count": 19,
   "id": "48c4a024-46ae-4d7f-9c74-07f59382eebd",
   "metadata": {},
   "outputs": [],
   "source": [
    "from sklearn.preprocessing import StandardScaler\n",
    "\n",
    "# Columns to be scaled\n",
    "columns_to_scale = ['Median purchasing price (in rupees)', 'Price of the product']\n",
    "\n",
    "scaler = StandardScaler()\n",
    "for target_column in columns_to_scale:\n",
    "    scaled_data = scaler.fit_transform(df[[target_column]])\n",
    "    scaled_df = pd.DataFrame(scaled_data, columns=[target_column])\n",
    "    scaled_df.reset_index(inplace = True)\n",
    "    df[target_column] = scaled_df[target_column]"
   ]
  },
  {
   "cell_type": "code",
   "execution_count": 20,
   "id": "48cb6d74-40e8-4d62-bf69-26889b3cae3b",
   "metadata": {},
   "outputs": [
    {
     "data": {
      "text/plain": [
       "0      -0.533843\n",
       "1      -0.486805\n",
       "2      -0.157540\n",
       "3      -0.486805\n",
       "4      -0.298654\n",
       "          ...   \n",
       "1013   -0.486805\n",
       "1014   -0.345692\n",
       "1015   -0.204578\n",
       "1016   -0.392730\n",
       "1017   -0.345692\n",
       "Name: Price of the product, Length: 1018, dtype: float64"
      ]
     },
     "execution_count": 20,
     "metadata": {},
     "output_type": "execute_result"
    }
   ],
   "source": [
    "scaled_df[\"Price of the product\"]"
   ]
  },
  {
   "cell_type": "code",
   "execution_count": 21,
   "id": "2fba99e6-2aae-4990-a60d-ec16454ec77d",
   "metadata": {},
   "outputs": [
    {
     "data": {
      "text/plain": [
       "index                                                          0\n",
       "Number of similar products purchased so far                    0\n",
       "Rating of the product                                          0\n",
       "Gender                                                         0\n",
       "Median purchasing price (in rupees)                            0\n",
       "Price of the product                                           0\n",
       "Holiday                                                        0\n",
       "Probability for the product to be recommended to the person    0\n",
       "_monsoon                                                       0\n",
       "_spring                                                        0\n",
       "_summer                                                        0\n",
       "_winter                                                        0\n",
       "dtype: int64"
      ]
     },
     "execution_count": 21,
     "metadata": {},
     "output_type": "execute_result"
    }
   ],
   "source": [
    "df.isnull().sum()"
   ]
  },
  {
   "cell_type": "code",
   "execution_count": 22,
   "id": "9cd59cf5-41b1-43d3-9918-a422cb7564a9",
   "metadata": {},
   "outputs": [
    {
     "data": {
      "text/html": [
       "<div>\n",
       "<style scoped>\n",
       "    .dataframe tbody tr th:only-of-type {\n",
       "        vertical-align: middle;\n",
       "    }\n",
       "\n",
       "    .dataframe tbody tr th {\n",
       "        vertical-align: top;\n",
       "    }\n",
       "\n",
       "    .dataframe thead th {\n",
       "        text-align: right;\n",
       "    }\n",
       "</style>\n",
       "<table border=\"1\" class=\"dataframe\">\n",
       "  <thead>\n",
       "    <tr style=\"text-align: right;\">\n",
       "      <th></th>\n",
       "      <th>index</th>\n",
       "      <th>Number of similar products purchased so far</th>\n",
       "      <th>Rating of the product</th>\n",
       "      <th>Gender</th>\n",
       "      <th>Median purchasing price (in rupees)</th>\n",
       "      <th>Price of the product</th>\n",
       "      <th>Holiday</th>\n",
       "      <th>Probability for the product to be recommended to the person</th>\n",
       "      <th>_monsoon</th>\n",
       "      <th>_spring</th>\n",
       "      <th>_summer</th>\n",
       "      <th>_winter</th>\n",
       "    </tr>\n",
       "  </thead>\n",
       "  <tbody>\n",
       "    <tr>\n",
       "      <th>0</th>\n",
       "      <td>0</td>\n",
       "      <td>4</td>\n",
       "      <td>4.5</td>\n",
       "      <td>1</td>\n",
       "      <td>-0.780803</td>\n",
       "      <td>-0.533843</td>\n",
       "      <td>0</td>\n",
       "      <td>0.9</td>\n",
       "      <td>0</td>\n",
       "      <td>0</td>\n",
       "      <td>0</td>\n",
       "      <td>1</td>\n",
       "    </tr>\n",
       "    <tr>\n",
       "      <th>1</th>\n",
       "      <td>1</td>\n",
       "      <td>2</td>\n",
       "      <td>3.2</td>\n",
       "      <td>0</td>\n",
       "      <td>-0.018569</td>\n",
       "      <td>-0.486805</td>\n",
       "      <td>1</td>\n",
       "      <td>0.2</td>\n",
       "      <td>1</td>\n",
       "      <td>0</td>\n",
       "      <td>0</td>\n",
       "      <td>0</td>\n",
       "    </tr>\n",
       "    <tr>\n",
       "      <th>2</th>\n",
       "      <td>2</td>\n",
       "      <td>10</td>\n",
       "      <td>4.8</td>\n",
       "      <td>0</td>\n",
       "      <td>-0.750314</td>\n",
       "      <td>-0.157540</td>\n",
       "      <td>0</td>\n",
       "      <td>0.7</td>\n",
       "      <td>0</td>\n",
       "      <td>1</td>\n",
       "      <td>0</td>\n",
       "      <td>0</td>\n",
       "    </tr>\n",
       "    <tr>\n",
       "      <th>3</th>\n",
       "      <td>3</td>\n",
       "      <td>1</td>\n",
       "      <td>2.5</td>\n",
       "      <td>0</td>\n",
       "      <td>-0.902761</td>\n",
       "      <td>-0.486805</td>\n",
       "      <td>0</td>\n",
       "      <td>0.1</td>\n",
       "      <td>0</td>\n",
       "      <td>0</td>\n",
       "      <td>1</td>\n",
       "      <td>0</td>\n",
       "    </tr>\n",
       "    <tr>\n",
       "      <th>4</th>\n",
       "      <td>4</td>\n",
       "      <td>5</td>\n",
       "      <td>4.3</td>\n",
       "      <td>1</td>\n",
       "      <td>-0.323463</td>\n",
       "      <td>-0.298654</td>\n",
       "      <td>1</td>\n",
       "      <td>0.8</td>\n",
       "      <td>0</td>\n",
       "      <td>0</td>\n",
       "      <td>0</td>\n",
       "      <td>1</td>\n",
       "    </tr>\n",
       "  </tbody>\n",
       "</table>\n",
       "</div>"
      ],
      "text/plain": [
       "   index  Number of similar products purchased so far  Rating of the product  \\\n",
       "0      0                                            4                    4.5   \n",
       "1      1                                            2                    3.2   \n",
       "2      2                                           10                    4.8   \n",
       "3      3                                            1                    2.5   \n",
       "4      4                                            5                    4.3   \n",
       "\n",
       "   Gender  Median purchasing price (in rupees)  Price of the product  Holiday  \\\n",
       "0       1                            -0.780803             -0.533843        0   \n",
       "1       0                            -0.018569             -0.486805        1   \n",
       "2       0                            -0.750314             -0.157540        0   \n",
       "3       0                            -0.902761             -0.486805        0   \n",
       "4       1                            -0.323463             -0.298654        1   \n",
       "\n",
       "   Probability for the product to be recommended to the person  _monsoon  \\\n",
       "0                                                0.9                   0   \n",
       "1                                                0.2                   1   \n",
       "2                                                0.7                   0   \n",
       "3                                                0.1                   0   \n",
       "4                                                0.8                   0   \n",
       "\n",
       "   _spring  _summer  _winter  \n",
       "0        0        0        1  \n",
       "1        0        0        0  \n",
       "2        1        0        0  \n",
       "3        0        1        0  \n",
       "4        0        0        1  "
      ]
     },
     "execution_count": 22,
     "metadata": {},
     "output_type": "execute_result"
    }
   ],
   "source": [
    "df.head()"
   ]
  },
  {
   "cell_type": "code",
   "execution_count": 23,
   "id": "97089157-6390-4c07-a771-6c20625de812",
   "metadata": {},
   "outputs": [
    {
     "data": {
      "text/plain": [
       "(1018, 12)"
      ]
     },
     "execution_count": 23,
     "metadata": {},
     "output_type": "execute_result"
    }
   ],
   "source": [
    "df.shape"
   ]
  },
  {
   "cell_type": "code",
   "execution_count": 24,
   "id": "220ac157-6434-4bab-b21a-9e8189a81c3e",
   "metadata": {},
   "outputs": [
    {
     "data": {
      "text/plain": [
       "index                                                          0\n",
       "Number of similar products purchased so far                    0\n",
       "Rating of the product                                          0\n",
       "Gender                                                         0\n",
       "Median purchasing price (in rupees)                            0\n",
       "Price of the product                                           0\n",
       "Holiday                                                        0\n",
       "Probability for the product to be recommended to the person    0\n",
       "_monsoon                                                       0\n",
       "_spring                                                        0\n",
       "_summer                                                        0\n",
       "_winter                                                        0\n",
       "dtype: int64"
      ]
     },
     "execution_count": 24,
     "metadata": {},
     "output_type": "execute_result"
    }
   ],
   "source": [
    "df.isnull().sum()"
   ]
  },
  {
   "cell_type": "markdown",
   "id": "38c0b8fe-93ff-43d5-89bf-6efce1b1d1fb",
   "metadata": {},
   "source": [
    "### Model Building"
   ]
  },
  {
   "cell_type": "markdown",
   "id": "a39de1f8-37a7-4a4d-aef9-69e1e0521d6a",
   "metadata": {},
   "source": [
    "### Performance Metrics:\n",
    "#### 1) Root mean squared error and mean absolute error with respect to training data\n",
    "#### 2) Root mean squared error and mean absolute error with respect to testing data\n",
    "#### 3) Inference latency"
   ]
  },
  {
   "cell_type": "code",
   "execution_count": 25,
   "id": "88c3661a-4914-4401-84c8-9aa02e397046",
   "metadata": {},
   "outputs": [
    {
     "name": "stdout",
     "output_type": "stream",
     "text": [
      "index\n",
      "Number of similar products purchased so far\n",
      "Rating of the product\n",
      "Gender\n",
      "Median purchasing price (in rupees)\n",
      "Price of the product\n",
      "Holiday\n",
      "Probability for the product to be recommended to the person\n",
      "_monsoon\n",
      "_spring\n",
      "_summer\n",
      "_winter\n"
     ]
    }
   ],
   "source": [
    "for column in df.columns:\n",
    "    print(column)"
   ]
  },
  {
   "cell_type": "code",
   "execution_count": 26,
   "id": "36722b9c-43ab-4f9e-8821-d2f05f8532bb",
   "metadata": {},
   "outputs": [
    {
     "data": {
      "text/plain": [
       "Index(['index', 'Number of similar products purchased so far',\n",
       "       'Rating of the product', 'Gender',\n",
       "       'Median purchasing price (in rupees)', 'Price of the product',\n",
       "       'Holiday',\n",
       "       'Probability for the product to be recommended to the person',\n",
       "       '_monsoon', '_spring', '_summer', '_winter'],\n",
       "      dtype='object')"
      ]
     },
     "execution_count": 26,
     "metadata": {},
     "output_type": "execute_result"
    }
   ],
   "source": [
    "df.columns"
   ]
  },
  {
   "cell_type": "code",
   "execution_count": 27,
   "id": "53c2d965-ecab-40cb-9e0b-c7188f3b4611",
   "metadata": {},
   "outputs": [
    {
     "data": {
      "text/plain": [
       "index                                                          0\n",
       "Number of similar products purchased so far                    0\n",
       "Rating of the product                                          0\n",
       "Gender                                                         0\n",
       "Median purchasing price (in rupees)                            0\n",
       "Price of the product                                           0\n",
       "Holiday                                                        0\n",
       "Probability for the product to be recommended to the person    0\n",
       "_monsoon                                                       0\n",
       "_spring                                                        0\n",
       "_summer                                                        0\n",
       "_winter                                                        0\n",
       "dtype: int64"
      ]
     },
     "execution_count": 27,
     "metadata": {},
     "output_type": "execute_result"
    }
   ],
   "source": [
    "df.isnull().sum()"
   ]
  },
  {
   "cell_type": "code",
   "execution_count": 28,
   "id": "ab91991e-4b90-4b36-9cf7-383e7f332828",
   "metadata": {},
   "outputs": [],
   "source": [
    "x = df[['Number of similar products purchased so far', 'Rating of the product',\n",
    "       'Gender', 'Holiday',\n",
    "       '_monsoon', '_spring', '_summer', '_winter',\n",
    "       'Median purchasing price (in rupees)', 'Price of the product']]\n",
    "Y = df[['Probability for the product to be recommended to the person']]"
   ]
  },
  {
   "cell_type": "code",
   "execution_count": 29,
   "id": "e9fa555d-bdda-4b7e-a84e-9ad0a42bdcd8",
   "metadata": {},
   "outputs": [],
   "source": [
    "from sklearn.model_selection import train_test_split\n",
    "\n",
    "x_train, x_test, Y_train, Y_test = train_test_split(x, Y, test_size=0.2, random_state=42)"
   ]
  },
  {
   "cell_type": "code",
   "execution_count": 30,
   "id": "317ba008-b8f9-428b-a3d0-54ca5423e0ab",
   "metadata": {},
   "outputs": [],
   "source": [
    "import time\n",
    "from sklearn.metrics import mean_squared_error\n",
    "\n",
    "def evaluation(model, x_train, x_test, y_train, y_test):\n",
    "    # Training data evaluation\n",
    "    y_train_pred = model.predict(x_train)\n",
    "    train_rmse = mean_squared_error(y_train, y_train_pred, squared=False)\n",
    "    train_mse = mean_squared_error(y_train, y_train_pred)\n",
    "    \n",
    "    # Testing data evaluation\n",
    "    y_test_pred = model.predict(x_test)\n",
    "    test_rmse = mean_squared_error(y_test, y_test_pred, squared=False)\n",
    "    test_mse = mean_squared_error(y_test, y_test_pred)\n",
    "    \n",
    "    # Inference time for a single row sample from x_train\n",
    "    start_time = time.time()\n",
    "    _ = model.predict([x_train.iloc[0]])\n",
    "    end_time = time.time()\n",
    "    inference_time = end_time - start_time\n",
    "    \n",
    "    return {\n",
    "        'Training RMSE': train_rmse,\n",
    "        'Training MSE': train_mse,\n",
    "        'Testing RMSE': test_rmse,\n",
    "        'Testing MSE': test_mse,\n",
    "        'Inference Time': inference_time\n",
    "    }"
   ]
  },
  {
   "cell_type": "code",
   "execution_count": 31,
   "id": "b938d298-9530-4508-8d46-8f4865b71662",
   "metadata": {},
   "outputs": [
    {
     "name": "stderr",
     "output_type": "stream",
     "text": [
      "C:\\Users\\maste\\anaconda3\\Lib\\site-packages\\sklearn\\base.py:439: UserWarning: X does not have valid feature names, but LinearRegression was fitted with feature names\n",
      "  warnings.warn(\n"
     ]
    },
    {
     "data": {
      "text/plain": [
       "{'Training RMSE': 0.1288270765376349,\n",
       " 'Training MSE': 0.016596415649233635,\n",
       " 'Testing RMSE': 0.12318871651898096,\n",
       " 'Testing MSE': 0.01517545987759385,\n",
       " 'Inference Time': 0.0}"
      ]
     },
     "execution_count": 31,
     "metadata": {},
     "output_type": "execute_result"
    }
   ],
   "source": [
    "# Linear Regression\n",
    "\n",
    "from sklearn.linear_model import LinearRegression\n",
    "from sklearn.metrics import mean_squared_error\n",
    "\n",
    "model = LinearRegression()\n",
    "model.fit(x_train, Y_train)\n",
    "\n",
    "outputs = evaluation(model , x_train, x_test, Y_train, Y_test)\n",
    "outputs"
   ]
  },
  {
   "cell_type": "code",
   "execution_count": 32,
   "id": "adf7e7dc-6a0d-42a3-9f26-53e9a506017f",
   "metadata": {},
   "outputs": [
    {
     "name": "stderr",
     "output_type": "stream",
     "text": [
      "C:\\Users\\maste\\anaconda3\\Lib\\site-packages\\sklearn\\utils\\validation.py:1143: DataConversionWarning: A column-vector y was passed when a 1d array was expected. Please change the shape of y to (n_samples, ), for example using ravel().\n",
      "  y = column_or_1d(y, warn=True)\n"
     ]
    },
    {
     "name": "stdout",
     "output_type": "stream",
     "text": [
      "linear\n",
      "{'Training RMSE': 0.12919978660107528, 'Training MSE': 0.01669258485776339, 'Testing RMSE': 0.12385997559003038, 'Testing MSE': 0.015341293553162922, 'Inference Time': 0.0}\n",
      "poly\n",
      "{'Training RMSE': 0.13138242716646062, 'Training MSE': 0.017261342168150326, 'Testing RMSE': 0.1266005826829533, 'Testing MSE': 0.016027707535663294, 'Inference Time': 0.0}\n",
      "rbf\n",
      "{'Training RMSE': 0.11874037651621795, 'Training MSE': 0.014099277015213204, 'Testing RMSE': 0.11847773374698901, 'Testing MSE': 0.01403697339382242, 'Inference Time': 0.0}\n",
      "sigmoid\n",
      "{'Training RMSE': 21.276482999917075, 'Training MSE': 452.68872884576035, 'Testing RMSE': 22.750477454012433, 'Testing MSE': 517.584224385528, 'Inference Time': 0.0}\n"
     ]
    },
    {
     "name": "stderr",
     "output_type": "stream",
     "text": [
      "C:\\Users\\maste\\anaconda3\\Lib\\site-packages\\sklearn\\base.py:439: UserWarning: X does not have valid feature names, but SVR was fitted with feature names\n",
      "  warnings.warn(\n",
      "C:\\Users\\maste\\anaconda3\\Lib\\site-packages\\sklearn\\utils\\validation.py:1143: DataConversionWarning: A column-vector y was passed when a 1d array was expected. Please change the shape of y to (n_samples, ), for example using ravel().\n",
      "  y = column_or_1d(y, warn=True)\n",
      "C:\\Users\\maste\\anaconda3\\Lib\\site-packages\\sklearn\\base.py:439: UserWarning: X does not have valid feature names, but SVR was fitted with feature names\n",
      "  warnings.warn(\n",
      "C:\\Users\\maste\\anaconda3\\Lib\\site-packages\\sklearn\\utils\\validation.py:1143: DataConversionWarning: A column-vector y was passed when a 1d array was expected. Please change the shape of y to (n_samples, ), for example using ravel().\n",
      "  y = column_or_1d(y, warn=True)\n",
      "C:\\Users\\maste\\anaconda3\\Lib\\site-packages\\sklearn\\base.py:439: UserWarning: X does not have valid feature names, but SVR was fitted with feature names\n",
      "  warnings.warn(\n",
      "C:\\Users\\maste\\anaconda3\\Lib\\site-packages\\sklearn\\utils\\validation.py:1143: DataConversionWarning: A column-vector y was passed when a 1d array was expected. Please change the shape of y to (n_samples, ), for example using ravel().\n",
      "  y = column_or_1d(y, warn=True)\n",
      "C:\\Users\\maste\\anaconda3\\Lib\\site-packages\\sklearn\\base.py:439: UserWarning: X does not have valid feature names, but SVR was fitted with feature names\n",
      "  warnings.warn(\n"
     ]
    }
   ],
   "source": [
    "# Support Vector Regressor\n",
    "from sklearn.svm import SVR\n",
    "\n",
    "for type in ['linear' , 'poly' , 'rbf' , 'sigmoid']:\n",
    "    print(type)\n",
    "    model = SVR(kernel = type)\n",
    "    model.fit(x_train, Y_train)\n",
    "\n",
    "    outputs = evaluation(model , x_train, x_test, Y_train, Y_test)\n",
    "    print(outputs)"
   ]
  },
  {
   "cell_type": "code",
   "execution_count": 33,
   "id": "9ea2cf6a-0ee4-4f10-8293-3fa720297ec2",
   "metadata": {},
   "outputs": [
    {
     "name": "stderr",
     "output_type": "stream",
     "text": [
      "C:\\Users\\maste\\AppData\\Local\\Temp\\ipykernel_5900\\2712086634.py:5: DataConversionWarning: A column-vector y was passed when a 1d array was expected. Please change the shape of y to (n_samples,), for example using ravel().\n",
      "  model.fit(x_train, Y_train)\n",
      "C:\\Users\\maste\\anaconda3\\Lib\\site-packages\\sklearn\\base.py:439: UserWarning: X does not have valid feature names, but RandomForestRegressor was fitted with feature names\n",
      "  warnings.warn(\n"
     ]
    },
    {
     "data": {
      "text/plain": [
       "{'Training RMSE': 0.036789484165126986,\n",
       " 'Training MSE': 0.001353466145136129,\n",
       " 'Testing RMSE': 0.08449280171912574,\n",
       " 'Testing MSE': 0.007139033542347496,\n",
       " 'Inference Time': 0.016564369201660156}"
      ]
     },
     "execution_count": 33,
     "metadata": {},
     "output_type": "execute_result"
    }
   ],
   "source": [
    "# Random Forest Regressor\n",
    "from sklearn.ensemble import RandomForestRegressor\n",
    "model = RandomForestRegressor(n_estimators=100, random_state=42)\n",
    "\n",
    "model.fit(x_train, Y_train)\n",
    "\n",
    "outputs = evaluation(model , x_train, x_test, Y_train, Y_test)\n",
    "outputs"
   ]
  },
  {
   "cell_type": "code",
   "execution_count": 34,
   "id": "a788c98e-21d8-4be0-9949-d66fd269e59a",
   "metadata": {},
   "outputs": [],
   "source": [
    "import pickle\n",
    "\n",
    "with open('random_forest_model.pkl', 'wb') as file:\n",
    "    pickle.dump(model, file)"
   ]
  },
  {
   "cell_type": "code",
   "execution_count": 35,
   "id": "633d118b-1037-427e-b7e9-bda5f8aa7a69",
   "metadata": {},
   "outputs": [
    {
     "data": {
      "text/html": [
       "<div>\n",
       "<style scoped>\n",
       "    .dataframe tbody tr th:only-of-type {\n",
       "        vertical-align: middle;\n",
       "    }\n",
       "\n",
       "    .dataframe tbody tr th {\n",
       "        vertical-align: top;\n",
       "    }\n",
       "\n",
       "    .dataframe thead th {\n",
       "        text-align: right;\n",
       "    }\n",
       "</style>\n",
       "<table border=\"1\" class=\"dataframe\">\n",
       "  <thead>\n",
       "    <tr style=\"text-align: right;\">\n",
       "      <th></th>\n",
       "      <th>index</th>\n",
       "      <th>Number of similar products purchased so far</th>\n",
       "      <th>Rating of the product</th>\n",
       "      <th>Gender</th>\n",
       "      <th>Median purchasing price (in rupees)</th>\n",
       "      <th>Price of the product</th>\n",
       "      <th>Holiday</th>\n",
       "      <th>Probability for the product to be recommended to the person</th>\n",
       "      <th>_monsoon</th>\n",
       "      <th>_spring</th>\n",
       "      <th>_summer</th>\n",
       "      <th>_winter</th>\n",
       "    </tr>\n",
       "  </thead>\n",
       "  <tbody>\n",
       "    <tr>\n",
       "      <th>0</th>\n",
       "      <td>0</td>\n",
       "      <td>4</td>\n",
       "      <td>4.5</td>\n",
       "      <td>1</td>\n",
       "      <td>-0.780803</td>\n",
       "      <td>-0.533843</td>\n",
       "      <td>0</td>\n",
       "      <td>0.9</td>\n",
       "      <td>0</td>\n",
       "      <td>0</td>\n",
       "      <td>0</td>\n",
       "      <td>1</td>\n",
       "    </tr>\n",
       "    <tr>\n",
       "      <th>1</th>\n",
       "      <td>1</td>\n",
       "      <td>2</td>\n",
       "      <td>3.2</td>\n",
       "      <td>0</td>\n",
       "      <td>-0.018569</td>\n",
       "      <td>-0.486805</td>\n",
       "      <td>1</td>\n",
       "      <td>0.2</td>\n",
       "      <td>1</td>\n",
       "      <td>0</td>\n",
       "      <td>0</td>\n",
       "      <td>0</td>\n",
       "    </tr>\n",
       "    <tr>\n",
       "      <th>2</th>\n",
       "      <td>2</td>\n",
       "      <td>10</td>\n",
       "      <td>4.8</td>\n",
       "      <td>0</td>\n",
       "      <td>-0.750314</td>\n",
       "      <td>-0.157540</td>\n",
       "      <td>0</td>\n",
       "      <td>0.7</td>\n",
       "      <td>0</td>\n",
       "      <td>1</td>\n",
       "      <td>0</td>\n",
       "      <td>0</td>\n",
       "    </tr>\n",
       "    <tr>\n",
       "      <th>3</th>\n",
       "      <td>3</td>\n",
       "      <td>1</td>\n",
       "      <td>2.5</td>\n",
       "      <td>0</td>\n",
       "      <td>-0.902761</td>\n",
       "      <td>-0.486805</td>\n",
       "      <td>0</td>\n",
       "      <td>0.1</td>\n",
       "      <td>0</td>\n",
       "      <td>0</td>\n",
       "      <td>1</td>\n",
       "      <td>0</td>\n",
       "    </tr>\n",
       "    <tr>\n",
       "      <th>4</th>\n",
       "      <td>4</td>\n",
       "      <td>5</td>\n",
       "      <td>4.3</td>\n",
       "      <td>1</td>\n",
       "      <td>-0.323463</td>\n",
       "      <td>-0.298654</td>\n",
       "      <td>1</td>\n",
       "      <td>0.8</td>\n",
       "      <td>0</td>\n",
       "      <td>0</td>\n",
       "      <td>0</td>\n",
       "      <td>1</td>\n",
       "    </tr>\n",
       "  </tbody>\n",
       "</table>\n",
       "</div>"
      ],
      "text/plain": [
       "   index  Number of similar products purchased so far  Rating of the product  \\\n",
       "0      0                                            4                    4.5   \n",
       "1      1                                            2                    3.2   \n",
       "2      2                                           10                    4.8   \n",
       "3      3                                            1                    2.5   \n",
       "4      4                                            5                    4.3   \n",
       "\n",
       "   Gender  Median purchasing price (in rupees)  Price of the product  Holiday  \\\n",
       "0       1                            -0.780803             -0.533843        0   \n",
       "1       0                            -0.018569             -0.486805        1   \n",
       "2       0                            -0.750314             -0.157540        0   \n",
       "3       0                            -0.902761             -0.486805        0   \n",
       "4       1                            -0.323463             -0.298654        1   \n",
       "\n",
       "   Probability for the product to be recommended to the person  _monsoon  \\\n",
       "0                                                0.9                   0   \n",
       "1                                                0.2                   1   \n",
       "2                                                0.7                   0   \n",
       "3                                                0.1                   0   \n",
       "4                                                0.8                   0   \n",
       "\n",
       "   _spring  _summer  _winter  \n",
       "0        0        0        1  \n",
       "1        0        0        0  \n",
       "2        1        0        0  \n",
       "3        0        1        0  \n",
       "4        0        0        1  "
      ]
     },
     "execution_count": 35,
     "metadata": {},
     "output_type": "execute_result"
    }
   ],
   "source": [
    "df.head()"
   ]
  },
  {
   "cell_type": "code",
   "execution_count": 36,
   "id": "bc291122-7eeb-4b1f-9acd-1ad622fb9c4a",
   "metadata": {},
   "outputs": [
    {
     "data": {
      "text/plain": [
       "Index(['index', 'Number of similar products purchased so far',\n",
       "       'Rating of the product', 'Gender',\n",
       "       'Median purchasing price (in rupees)', 'Price of the product',\n",
       "       'Holiday',\n",
       "       'Probability for the product to be recommended to the person',\n",
       "       '_monsoon', '_spring', '_summer', '_winter'],\n",
       "      dtype='object')"
      ]
     },
     "execution_count": 36,
     "metadata": {},
     "output_type": "execute_result"
    }
   ],
   "source": [
    "df.columns"
   ]
  },
  {
   "cell_type": "code",
   "execution_count": 37,
   "id": "a19c37ab-f8d1-404f-a8ea-066542ae60e7",
   "metadata": {},
   "outputs": [
    {
     "data": {
      "text/plain": [
       "('Probability for the product to be recommended to the person',)"
      ]
     },
     "execution_count": 37,
     "metadata": {},
     "output_type": "execute_result"
    }
   ],
   "source": [
    "'index',\n",
    "'Number of similar products purchased so far',\n",
    "'Rating of the product',\n",
    "'Gender',\n",
    "'Median purchasing price (in rupees)',\n",
    "'Price of the product',\n",
    "'Holiday',\n",
    "'Probability for the product to be recommended to the person'"
   ]
  },
  {
   "cell_type": "markdown",
   "id": "adad4b7a-2ddd-4ffe-ad37-c7b4cf2e9b67",
   "metadata": {},
   "source": [
    "### Use the Model"
   ]
  },
  {
   "cell_type": "code",
   "execution_count": 40,
   "id": "da933b97-a88c-4157-a572-28c4f2129ba9",
   "metadata": {},
   "outputs": [],
   "source": [
    "input = df.sample(n = 1)\n",
    "number_of_similar_products = "
   ]
  },
  {
   "cell_type": "code",
   "execution_count": 41,
   "id": "a620d975-ce62-4ab2-a3b7-0029968d746d",
   "metadata": {},
   "outputs": [
    {
     "data": {
      "text/html": [
       "<div>\n",
       "<style scoped>\n",
       "    .dataframe tbody tr th:only-of-type {\n",
       "        vertical-align: middle;\n",
       "    }\n",
       "\n",
       "    .dataframe tbody tr th {\n",
       "        vertical-align: top;\n",
       "    }\n",
       "\n",
       "    .dataframe thead th {\n",
       "        text-align: right;\n",
       "    }\n",
       "</style>\n",
       "<table border=\"1\" class=\"dataframe\">\n",
       "  <thead>\n",
       "    <tr style=\"text-align: right;\">\n",
       "      <th></th>\n",
       "      <th>index</th>\n",
       "      <th>Number of similar products purchased so far</th>\n",
       "      <th>Rating of the product</th>\n",
       "      <th>Gender</th>\n",
       "      <th>Median purchasing price (in rupees)</th>\n",
       "      <th>Price of the product</th>\n",
       "      <th>Holiday</th>\n",
       "      <th>Probability for the product to be recommended to the person</th>\n",
       "      <th>_monsoon</th>\n",
       "      <th>_spring</th>\n",
       "      <th>_summer</th>\n",
       "      <th>_winter</th>\n",
       "    </tr>\n",
       "  </thead>\n",
       "  <tbody>\n",
       "    <tr>\n",
       "      <th>788</th>\n",
       "      <td>1244</td>\n",
       "      <td>8</td>\n",
       "      <td>4.7</td>\n",
       "      <td>1</td>\n",
       "      <td>0.591218</td>\n",
       "      <td>-0.345692</td>\n",
       "      <td>0</td>\n",
       "      <td>0.9</td>\n",
       "      <td>0</td>\n",
       "      <td>0</td>\n",
       "      <td>0</td>\n",
       "      <td>1</td>\n",
       "    </tr>\n",
       "  </tbody>\n",
       "</table>\n",
       "</div>"
      ],
      "text/plain": [
       "     index  Number of similar products purchased so far  \\\n",
       "788   1244                                            8   \n",
       "\n",
       "     Rating of the product  Gender  Median purchasing price (in rupees)  \\\n",
       "788                    4.7       1                             0.591218   \n",
       "\n",
       "     Price of the product  Holiday  \\\n",
       "788             -0.345692        0   \n",
       "\n",
       "     Probability for the product to be recommended to the person  _monsoon  \\\n",
       "788                                                0.9                   0   \n",
       "\n",
       "     _spring  _summer  _winter  \n",
       "788        0        0        1  "
      ]
     },
     "execution_count": 41,
     "metadata": {},
     "output_type": "execute_result"
    }
   ],
   "source": [
    "input"
   ]
  },
  {
   "cell_type": "code",
   "execution_count": null,
   "id": "8ce9f604-dc5c-45c6-bdf8-7152d7b7d847",
   "metadata": {},
   "outputs": [],
   "source": [
    "list []\n",
    "model.predict(list)"
   ]
  },
  {
   "cell_type": "code",
   "execution_count": null,
   "id": "572f60a0-b3c8-45e5-b312-c9accd928a01",
   "metadata": {},
   "outputs": [],
   "source": []
  }
 ],
 "metadata": {
  "kernelspec": {
   "display_name": "Python 3 (ipykernel)",
   "language": "python",
   "name": "python3"
  },
  "language_info": {
   "codemirror_mode": {
    "name": "ipython",
    "version": 3
   },
   "file_extension": ".py",
   "mimetype": "text/x-python",
   "name": "python",
   "nbconvert_exporter": "python",
   "pygments_lexer": "ipython3",
   "version": "3.11.7"
  }
 },
 "nbformat": 4,
 "nbformat_minor": 5
}
